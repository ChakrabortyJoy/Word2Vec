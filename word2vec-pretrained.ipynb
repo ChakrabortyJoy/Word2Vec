{
 "cells": [
  {
   "cell_type": "code",
   "execution_count": 1,
   "metadata": {
    "_cell_guid": "b1076dfc-b9ad-4769-8c92-a6c4dae69d19",
    "_kg_hide-input": true,
    "_uuid": "8f2839f25d086af736a60e9eeb907d3b93b6e0e5",
    "execution": {
     "iopub.execute_input": "2023-03-16T10:30:16.985326Z",
     "iopub.status.busy": "2023-03-16T10:30:16.984661Z",
     "iopub.status.idle": "2023-03-16T10:30:16.994361Z",
     "shell.execute_reply": "2023-03-16T10:30:16.993755Z",
     "shell.execute_reply.started": "2023-03-16T10:17:49.150952Z"
    },
    "papermill": {
     "duration": 0.035774,
     "end_time": "2023-03-16T10:30:16.994480",
     "exception": false,
     "start_time": "2023-03-16T10:30:16.958706",
     "status": "completed"
    },
    "tags": []
   },
   "outputs": [
    {
     "name": "stdout",
     "output_type": "stream",
     "text": [
      "/kaggle/input/nlpword2vecembeddingspretrained/glove.6B.200d.txt\n",
      "/kaggle/input/nlpword2vecembeddingspretrained/glove.6B.50d.txt\n",
      "/kaggle/input/nlpword2vecembeddingspretrained/glove.6B.300d.txt\n",
      "/kaggle/input/nlpword2vecembeddingspretrained/GoogleNews-vectors-negative300.bin\n",
      "/kaggle/input/nlpword2vecembeddingspretrained/glove.6B.100d.txt\n",
      "/kaggle/input/jigsaw-toxic-comment-classification-challenge/train.csv.zip\n",
      "/kaggle/input/jigsaw-toxic-comment-classification-challenge/sample_submission.csv.zip\n",
      "/kaggle/input/jigsaw-toxic-comment-classification-challenge/test_labels.csv.zip\n",
      "/kaggle/input/jigsaw-toxic-comment-classification-challenge/test.csv.zip\n"
     ]
    }
   ],
   "source": [
    "# This Python 3 environment comes with many helpful analytics libraries installed\n",
    "# It is defined by the kaggle/python Docker image: https://github.com/kaggle/docker-python\n",
    "# For example, here's several helpful packages to load\n",
    "\n",
    "import numpy as np # linear algebra\n",
    "import pandas as pd # data processing, CSV file I/O (e.g. pd.read_csv)\n",
    "\n",
    "# Input data files are available in the read-only \"../input/\" directory\n",
    "# For example, running this (by clicking run or pressing Shift+Enter) will list all files under the input directory\n",
    "\n",
    "import os\n",
    "for dirname, _, filenames in os.walk('/kaggle/input'):\n",
    "    for filename in filenames:\n",
    "        print(os.path.join(dirname, filename))\n",
    "\n",
    "# You can write up to 5GB to the current directory (/kaggle/working/) that gets preserved as output when you create a version using \"Save & Run All\" \n",
    "# You can also write temporary files to /kaggle/temp/, but they won't be saved outside of the current session"
   ]
  },
  {
   "cell_type": "code",
   "execution_count": 2,
   "metadata": {
    "_cell_guid": "79c7e3d0-c299-4dcb-8224-4455121ee9b0",
    "_kg_hide-input": true,
    "_uuid": "d629ff2d2480ee46fbb7e2d37f6b5fab8052498a",
    "execution": {
     "iopub.execute_input": "2023-03-16T10:30:17.039890Z",
     "iopub.status.busy": "2023-03-16T10:30:17.039280Z",
     "iopub.status.idle": "2023-03-16T10:30:18.787139Z",
     "shell.execute_reply": "2023-03-16T10:30:18.786153Z",
     "shell.execute_reply.started": "2023-03-16T10:17:49.172568Z"
    },
    "papermill": {
     "duration": 1.773294,
     "end_time": "2023-03-16T10:30:18.787272",
     "exception": false,
     "start_time": "2023-03-16T10:30:17.013978",
     "status": "completed"
    },
    "tags": []
   },
   "outputs": [],
   "source": [
    "df = pd.read_csv('/kaggle/input/jigsaw-toxic-comment-classification-challenge/train.csv.zip')\n",
    "rslt_df = df[(df['toxic'] == 0) & (df['severe_toxic'] == 0) & (df['obscene'] == 0) & (df['threat'] == 0) & (df['insult'] == 0) & (df['identity_hate'] == 0)]\n",
    "rslt_df2 = df[(df['toxic'] == 1) & (df['severe_toxic'] == 0) & (df['obscene'] == 0) & (df['threat'] == 0) & (df['insult'] == 0) & (df['identity_hate'] == 0)]\n",
    "new1 = rslt_df[['id', 'comment_text', 'toxic']].iloc[:23000].copy() \n",
    "new2 = rslt_df2[['id', 'comment_text', 'toxic']].iloc[:900].copy()\n",
    "new = pd.concat([new1, new2], ignore_index=True)"
   ]
  },
  {
   "cell_type": "code",
   "execution_count": 3,
   "metadata": {
    "execution": {
     "iopub.execute_input": "2023-03-16T10:30:18.835242Z",
     "iopub.status.busy": "2023-03-16T10:30:18.834419Z",
     "iopub.status.idle": "2023-03-16T10:30:18.842082Z",
     "shell.execute_reply": "2023-03-16T10:30:18.842462Z",
     "shell.execute_reply.started": "2023-03-16T10:17:51.233967Z"
    },
    "papermill": {
     "duration": 0.034549,
     "end_time": "2023-03-16T10:30:18.842581",
     "exception": false,
     "start_time": "2023-03-16T10:30:18.808032",
     "status": "completed"
    },
    "tags": []
   },
   "outputs": [
    {
     "data": {
      "text/html": [
       "<div>\n",
       "<style scoped>\n",
       "    .dataframe tbody tr th:only-of-type {\n",
       "        vertical-align: middle;\n",
       "    }\n",
       "\n",
       "    .dataframe tbody tr th {\n",
       "        vertical-align: top;\n",
       "    }\n",
       "\n",
       "    .dataframe thead th {\n",
       "        text-align: right;\n",
       "    }\n",
       "</style>\n",
       "<table border=\"1\" class=\"dataframe\">\n",
       "  <thead>\n",
       "    <tr style=\"text-align: right;\">\n",
       "      <th></th>\n",
       "      <th>id</th>\n",
       "      <th>comment_text</th>\n",
       "      <th>toxic</th>\n",
       "    </tr>\n",
       "  </thead>\n",
       "  <tbody>\n",
       "    <tr>\n",
       "      <th>0</th>\n",
       "      <td>0000997932d777bf</td>\n",
       "      <td>Explanation\\nWhy the edits made under my usern...</td>\n",
       "      <td>0</td>\n",
       "    </tr>\n",
       "    <tr>\n",
       "      <th>1</th>\n",
       "      <td>000103f0d9cfb60f</td>\n",
       "      <td>D'aww! He matches this background colour I'm s...</td>\n",
       "      <td>0</td>\n",
       "    </tr>\n",
       "    <tr>\n",
       "      <th>2</th>\n",
       "      <td>000113f07ec002fd</td>\n",
       "      <td>Hey man, I'm really not trying to edit war. It...</td>\n",
       "      <td>0</td>\n",
       "    </tr>\n",
       "    <tr>\n",
       "      <th>3</th>\n",
       "      <td>0001b41b1c6bb37e</td>\n",
       "      <td>\"\\nMore\\nI can't make any real suggestions on ...</td>\n",
       "      <td>0</td>\n",
       "    </tr>\n",
       "    <tr>\n",
       "      <th>4</th>\n",
       "      <td>0001d958c54c6e35</td>\n",
       "      <td>You, sir, are my hero. Any chance you remember...</td>\n",
       "      <td>0</td>\n",
       "    </tr>\n",
       "  </tbody>\n",
       "</table>\n",
       "</div>"
      ],
      "text/plain": [
       "                 id                                       comment_text  toxic\n",
       "0  0000997932d777bf  Explanation\\nWhy the edits made under my usern...      0\n",
       "1  000103f0d9cfb60f  D'aww! He matches this background colour I'm s...      0\n",
       "2  000113f07ec002fd  Hey man, I'm really not trying to edit war. It...      0\n",
       "3  0001b41b1c6bb37e  \"\\nMore\\nI can't make any real suggestions on ...      0\n",
       "4  0001d958c54c6e35  You, sir, are my hero. Any chance you remember...      0"
      ]
     },
     "execution_count": 3,
     "metadata": {},
     "output_type": "execute_result"
    }
   ],
   "source": [
    "new.head()"
   ]
  },
  {
   "cell_type": "code",
   "execution_count": 4,
   "metadata": {
    "_kg_hide-input": true,
    "execution": {
     "iopub.execute_input": "2023-03-16T10:30:18.886820Z",
     "iopub.status.busy": "2023-03-16T10:30:18.885095Z",
     "iopub.status.idle": "2023-03-16T10:30:18.887474Z",
     "shell.execute_reply": "2023-03-16T10:30:18.887868Z",
     "shell.execute_reply.started": "2023-03-16T10:17:51.255248Z"
    },
    "papermill": {
     "duration": 0.025881,
     "end_time": "2023-03-16T10:30:18.888009",
     "exception": false,
     "start_time": "2023-03-16T10:30:18.862128",
     "status": "completed"
    },
    "tags": []
   },
   "outputs": [],
   "source": [
    "output=['toxic','severe_toxic','obscene','threat','insult','identity_hate']\n"
   ]
  },
  {
   "cell_type": "code",
   "execution_count": 5,
   "metadata": {
    "execution": {
     "iopub.execute_input": "2023-03-16T10:30:18.934320Z",
     "iopub.status.busy": "2023-03-16T10:30:18.933677Z",
     "iopub.status.idle": "2023-03-16T10:30:19.779411Z",
     "shell.execute_reply": "2023-03-16T10:30:19.778966Z",
     "shell.execute_reply.started": "2023-03-16T10:17:51.264892Z"
    },
    "papermill": {
     "duration": 0.868918,
     "end_time": "2023-03-16T10:30:19.779531",
     "exception": false,
     "start_time": "2023-03-16T10:30:18.910613",
     "status": "completed"
    },
    "tags": []
   },
   "outputs": [
    {
     "data": {
      "text/plain": [
       "Text(0.5, 1.0, 'Count of labels')"
      ]
     },
     "execution_count": 5,
     "metadata": {},
     "output_type": "execute_result"
    },
    {
     "data": {
      "image/png": "[encoded data removed]",
      "text/plain": [
       "<Figure size 432x288 with 1 Axes>"
      ]
     },
     "metadata": {
      "needs_background": "light"
     },
     "output_type": "display_data"
    }
   ],
   "source": [
    "import seaborn as sns\n",
    "import matplotlib.pyplot as plt\n",
    "\n",
    "sns.countplot(new.toxic)\n",
    "plt.xlabel('class')\n",
    "plt.title('Count of labels')"
   ]
  },
  {
   "cell_type": "markdown",
   "metadata": {
    "papermill": {
     "duration": 0.020009,
     "end_time": "2023-03-16T10:30:19.820212",
     "exception": false,
     "start_time": "2023-03-16T10:30:19.800203",
     "status": "completed"
    },
    "tags": []
   },
   "source": [
    "> A we can clearly see that data is skewed therefore we will oversample it."
   ]
  },
  {
   "cell_type": "code",
   "execution_count": 6,
   "metadata": {
    "execution": {
     "iopub.execute_input": "2023-03-16T10:30:19.865063Z",
     "iopub.status.busy": "2023-03-16T10:30:19.864498Z",
     "iopub.status.idle": "2023-03-16T10:30:26.772588Z",
     "shell.execute_reply": "2023-03-16T10:30:26.771852Z",
     "shell.execute_reply.started": "2023-03-16T10:17:52.467487Z"
    },
    "papermill": {
     "duration": 6.932117,
     "end_time": "2023-03-16T10:30:26.772712",
     "exception": false,
     "start_time": "2023-03-16T10:30:19.840595",
     "status": "completed"
    },
    "tags": []
   },
   "outputs": [],
   "source": [
    "import nltk\n",
    "tk=nltk.tokenize.TreebankWordTokenizer()\n",
    "comment_tokens = [tk.tokenize(sent) for sent in new['comment_text']]"
   ]
  },
  {
   "cell_type": "code",
   "execution_count": 7,
   "metadata": {
    "execution": {
     "iopub.execute_input": "2023-03-16T10:30:26.821773Z",
     "iopub.status.busy": "2023-03-16T10:30:26.820986Z",
     "iopub.status.idle": "2023-03-16T10:30:26.824777Z",
     "shell.execute_reply": "2023-03-16T10:30:26.824327Z",
     "shell.execute_reply.started": "2023-03-16T10:18:01.149769Z"
    },
    "papermill": {
     "duration": 0.031726,
     "end_time": "2023-03-16T10:30:26.824864",
     "exception": false,
     "start_time": "2023-03-16T10:30:26.793138",
     "status": "completed"
    },
    "tags": []
   },
   "outputs": [
    {
     "data": {
      "text/plain": [
       "23900"
      ]
     },
     "execution_count": 7,
     "metadata": {},
     "output_type": "execute_result"
    }
   ],
   "source": [
    "len(comment_tokens)"
   ]
  },
  {
   "cell_type": "code",
   "execution_count": 8,
   "metadata": {
    "execution": {
     "iopub.execute_input": "2023-03-16T10:30:26.870006Z",
     "iopub.status.busy": "2023-03-16T10:30:26.869413Z",
     "iopub.status.idle": "2023-03-16T10:34:02.226870Z",
     "shell.execute_reply": "2023-03-16T10:34:02.226357Z",
     "shell.execute_reply.started": "2023-03-16T10:18:01.163186Z"
    },
    "papermill": {
     "duration": 215.381876,
     "end_time": "2023-03-16T10:34:02.227041",
     "exception": false,
     "start_time": "2023-03-16T10:30:26.845165",
     "status": "completed"
    },
    "tags": []
   },
   "outputs": [],
   "source": [
    "from nltk.corpus import stopwords\n",
    "for i in range(len(comment_tokens)):\n",
    "    comment_tokens[i] = [w for w in comment_tokens[i] if w not in stopwords.words('english')]"
   ]
  },
  {
   "cell_type": "code",
   "execution_count": 9,
   "metadata": {
    "_kg_hide-input": true,
    "execution": {
     "iopub.execute_input": "2023-03-16T10:34:02.272194Z",
     "iopub.status.busy": "2023-03-16T10:34:02.271628Z",
     "iopub.status.idle": "2023-03-16T10:34:02.275316Z",
     "shell.execute_reply": "2023-03-16T10:34:02.275697Z",
     "shell.execute_reply.started": "2023-03-16T10:22:28.030312Z"
    },
    "papermill": {
     "duration": 0.027891,
     "end_time": "2023-03-16T10:34:02.275808",
     "exception": false,
     "start_time": "2023-03-16T10:34:02.247917",
     "status": "completed"
    },
    "tags": []
   },
   "outputs": [],
   "source": [
    "#training own word2vec model\n",
    "## from gensim.models import Word2Vec\n",
    "\n",
    "## word2vec = Word2Vec(comment_tokens, min_count=1,size=300)\n",
    "## vocabulary = word2vec.wv.vocab\n",
    "\n",
    "## word2vec.save(\"my_word2vec.model\")\n",
    "## \n",
    "## def document_vector(doc):\n",
    " ##     \"\"\"Create document vectors by averaging word vectors. Remove out-of-vocabulary words.\"\"\"\n",
    " ##    doc = [word for word in doc if word in model.wv.vocab]\n",
    "##     print(doc)\n",
    "    # return np.mean(word2vec[doc], axis=0)\n",
    "## import pickle\n",
    "## with open(\"w2v_list.txt\", \"wb\") as fp:   #Pickling\n",
    "   ##  pickle.dump(list_w2v, fp)"
   ]
  },
  {
   "cell_type": "markdown",
   "metadata": {
    "papermill": {
     "duration": 0.020561,
     "end_time": "2023-03-16T10:34:02.317234",
     "exception": false,
     "start_time": "2023-03-16T10:34:02.296673",
     "status": "completed"
    },
    "tags": []
   },
   "source": [
    "## Google’s Word2vec Pretrained Word Embedding\n",
    "Word2Vec is one of the most popular pretrained word embeddings developed by Google. Word2Vec is trained on the Google News dataset (about 100 billion words). It has several use cases such as Recommendation Engines, Knowledge Discovery, and also applied in the different Text Classification problems.\n",
    "\n",
    "The architecture of Word2Vec is really simple. It’s a feed-forward neural network with just one hidden layer. Hence, it is sometimes referred to as a Shallow Neural Network architecture.\n",
    "\n",
    "Depending on the way the embeddings are learned, Word2Vec is classified into two approaches:\n",
    "\n",
    "1. Continuous Bag-of-Words (CBOW)\n",
    "\n",
    "2. Skip-gram model"
   ]
  },
  {
   "cell_type": "markdown",
   "metadata": {
    "papermill": {
     "duration": 0.021169,
     "end_time": "2023-03-16T10:34:02.358695",
     "exception": false,
     "start_time": "2023-03-16T10:34:02.337526",
     "status": "completed"
    },
    "tags": []
   },
   "source": [
    "For example, consider the sentence: “I have topped at times but I never stopped trying”.  Let’s say we want to learn the embedding of the word “topped”. So, here the focus word is “topped”.\n",
    "\n",
    "The first step is to define a context window. A context window refers to the number of words appearing on the left and right of a focus word. The words appearing in the context window are known as neighboring words (or context). Let’s fix the context window to 1 and then see input and output for both approaches:\n",
    "\n",
    "Continuous Bag-of-Words: Input = [ have, at ],  Output = topped\n",
    "\n",
    "Skip-gram: Input = topped, Output = [ have, at ]\n",
    "\n",
    "As you can see here, CBOW accepts multiple words as input and produces a single word as output whereas Skip-gram accepts a single word as input and produces multiple words as output.\n",
    "\n",
    "So, let us define the architecture according to the input and output. But keep in mind that each word is fed into a model as a one-hot vector:"
   ]
  },
  {
   "cell_type": "markdown",
   "metadata": {
    "papermill": {
     "duration": 0.01999,
     "end_time": "2023-03-16T10:34:02.399548",
     "exception": false,
     "start_time": "2023-03-16T10:34:02.379558",
     "status": "completed"
    },
    "tags": []
   },
   "source": [
    "![](https://cdn.analyticsvidhya.com/wp-content/uploads/2020/03/Screenshot-from-2020-03-12-13-05-42.png)"
   ]
  },
  {
   "cell_type": "markdown",
   "metadata": {
    "papermill": {
     "duration": 0.019948,
     "end_time": "2023-03-16T10:34:02.439833",
     "exception": false,
     "start_time": "2023-03-16T10:34:02.419885",
     "status": "completed"
    },
    "tags": []
   },
   "source": [
    "### Pretrained word2vec Implementation"
   ]
  },
  {
   "cell_type": "code",
   "execution_count": 10,
   "metadata": {
    "execution": {
     "iopub.execute_input": "2023-03-16T10:34:02.485202Z",
     "iopub.status.busy": "2023-03-16T10:34:02.484676Z",
     "iopub.status.idle": "2023-03-16T10:34:54.840858Z",
     "shell.execute_reply": "2023-03-16T10:34:54.840336Z",
     "shell.execute_reply.started": "2023-03-16T10:22:28.037189Z"
    },
    "papermill": {
     "duration": 52.380489,
     "end_time": "2023-03-16T10:34:54.841004",
     "exception": false,
     "start_time": "2023-03-16T10:34:02.460515",
     "status": "completed"
    },
    "tags": []
   },
   "outputs": [],
   "source": [
    "# using pretrained model\n",
    "import gensim\n",
    "model = gensim.models.KeyedVectors.load_word2vec_format('/kaggle/input/nlpword2vecembeddingspretrained/GoogleNews-vectors-negative300.bin', binary=True)"
   ]
  },
  {
   "cell_type": "code",
   "execution_count": 11,
   "metadata": {
    "execution": {
     "iopub.execute_input": "2023-03-16T10:34:54.886851Z",
     "iopub.status.busy": "2023-03-16T10:34:54.886334Z",
     "iopub.status.idle": "2023-03-16T10:34:54.893215Z",
     "shell.execute_reply": "2023-03-16T10:34:54.893734Z",
     "shell.execute_reply.started": "2023-03-16T10:23:31.001348Z"
    },
    "papermill": {
     "duration": 0.03164,
     "end_time": "2023-03-16T10:34:54.893879",
     "exception": false,
     "start_time": "2023-03-16T10:34:54.862239",
     "status": "completed"
    },
    "tags": []
   },
   "outputs": [
    {
     "name": "stderr",
     "output_type": "stream",
     "text": [
      "/opt/conda/lib/python3.7/site-packages/ipykernel_launcher.py:1: DeprecationWarning: Call to deprecated `wv` (Attribute will be removed in 4.0.0, use self instead).\n",
      "  \"\"\"Entry point for launching an IPython kernel.\n"
     ]
    },
    {
     "data": {
      "text/plain": [
       "3000000"
      ]
     },
     "execution_count": 11,
     "metadata": {},
     "output_type": "execute_result"
    }
   ],
   "source": [
    "vocabulary = model.wv.vocab\n",
    "len(vocabulary)"
   ]
  },
  {
   "cell_type": "code",
   "execution_count": 12,
   "metadata": {
    "execution": {
     "iopub.execute_input": "2023-03-16T10:34:54.940439Z",
     "iopub.status.busy": "2023-03-16T10:34:54.939254Z",
     "iopub.status.idle": "2023-03-16T10:35:04.908875Z",
     "shell.execute_reply": "2023-03-16T10:35:04.909348Z",
     "shell.execute_reply.started": "2023-03-16T10:23:31.010839Z"
    },
    "papermill": {
     "duration": 9.994727,
     "end_time": "2023-03-16T10:35:04.909493",
     "exception": false,
     "start_time": "2023-03-16T10:34:54.914766",
     "status": "completed"
    },
    "tags": []
   },
   "outputs": [
    {
     "data": {
      "text/plain": [
       "[('bhalo', 0.7301204204559326),\n",
       " ('theke', 0.7238638401031494),\n",
       " ('angrezi', 0.7148141860961914),\n",
       " ('kotha', 0.7060301303863525),\n",
       " ('dadi', 0.7035724520683289),\n",
       " ('srk', 0.7010512351989746),\n",
       " ('Aapne', 0.7001107335090637),\n",
       " ('mil_gaya', 0.6931058764457703),\n",
       " ('kapoor', 0.6922467947006226),\n",
       " ('purana', 0.6918690204620361)]"
      ]
     },
     "execution_count": 12,
     "metadata": {},
     "output_type": "execute_result"
    }
   ],
   "source": [
    "model.most_similar('bengali')"
   ]
  },
  {
   "cell_type": "code",
   "execution_count": 13,
   "metadata": {
    "execution": {
     "iopub.execute_input": "2023-03-16T10:35:04.958557Z",
     "iopub.status.busy": "2023-03-16T10:35:04.957597Z",
     "iopub.status.idle": "2023-03-16T10:35:05.360880Z",
     "shell.execute_reply": "2023-03-16T10:35:05.360444Z",
     "shell.execute_reply.started": "2023-03-16T10:23:36.447778Z"
    },
    "papermill": {
     "duration": 0.429927,
     "end_time": "2023-03-16T10:35:05.361032",
     "exception": false,
     "start_time": "2023-03-16T10:35:04.931105",
     "status": "completed"
    },
    "tags": []
   },
   "outputs": [
    {
     "data": {
      "text/plain": [
       "[('indian', 0.6967039704322815),\n",
       " ('usa', 0.6836211085319519),\n",
       " ('pakistan', 0.6815168261528015),\n",
       " ('chennai', 0.6675504446029663),\n",
       " ('america', 0.6589399576187134),\n",
       " ('sri_lanka', 0.6498200297355652),\n",
       " ('canada', 0.6490967869758606),\n",
       " ('australia', 0.6368584036827087),\n",
       " ('mexico', 0.6239137649536133),\n",
       " ('uk', 0.6221641898155212)]"
      ]
     },
     "execution_count": 13,
     "metadata": {},
     "output_type": "execute_result"
    }
   ],
   "source": [
    "model.most_similar('india')"
   ]
  },
  {
   "cell_type": "code",
   "execution_count": 14,
   "metadata": {
    "execution": {
     "iopub.execute_input": "2023-03-16T10:35:05.412436Z",
     "iopub.status.busy": "2023-03-16T10:35:05.411403Z",
     "iopub.status.idle": "2023-03-16T10:35:05.819258Z",
     "shell.execute_reply": "2023-03-16T10:35:05.818446Z",
     "shell.execute_reply.started": "2023-03-16T10:23:36.694297Z"
    },
    "papermill": {
     "duration": 0.436406,
     "end_time": "2023-03-16T10:35:05.819373",
     "exception": false,
     "start_time": "2023-03-16T10:35:05.382967",
     "status": "completed"
    },
    "tags": []
   },
   "outputs": [
    {
     "data": {
      "text/plain": [
       "[('soccer', 0.731354832649231),\n",
       " ('fooball', 0.7139959335327148),\n",
       " ('Football', 0.7124834060668945),\n",
       " ('basketball', 0.6682467460632324),\n",
       " ('footbal', 0.6649289131164551),\n",
       " ('athletics', 0.6265192627906799),\n",
       " ('gridiron', 0.6191604733467102),\n",
       " ('baseball', 0.6162000894546509),\n",
       " ('footballl', 0.6069177389144897),\n",
       " ('sports', 0.5927178263664246)]"
      ]
     },
     "execution_count": 14,
     "metadata": {},
     "output_type": "execute_result"
    }
   ],
   "source": [
    "model.most_similar('football')"
   ]
  },
  {
   "cell_type": "code",
   "execution_count": 15,
   "metadata": {
    "_kg_hide-input": true,
    "execution": {
     "iopub.execute_input": "2023-03-16T10:35:05.872315Z",
     "iopub.status.busy": "2023-03-16T10:35:05.871739Z",
     "iopub.status.idle": "2023-03-16T10:36:04.339187Z",
     "shell.execute_reply": "2023-03-16T10:36:04.338153Z",
     "shell.execute_reply.started": "2023-03-16T10:23:36.981036Z"
    },
    "papermill": {
     "duration": 58.497388,
     "end_time": "2023-03-16T10:36:04.339360",
     "exception": false,
     "start_time": "2023-03-16T10:35:05.841972",
     "status": "completed"
    },
    "tags": []
   },
   "outputs": [
    {
     "data": {
      "text/html": [
       "\n",
       "    <div class=\"bk-root\">\n",
       "        <a href=\"https://bokeh.org\" target=\"_blank\" class=\"bk-logo bk-logo-small bk-logo-notebook\"></a>\n",
       "        <span id=\"1001\">Loading BokehJS ...</span>\n",
       "    </div>"
      ]
     },
     "metadata": {},
     "output_type": "display_data"
    },
    {
     "data": {
      "application/javascript": [
       "\n",
       "(function(root) {\n",
       "  function now() {\n",
       "    return new Date();\n",
       "  }\n",
       "\n",
       "  var force = true;\n",
       "\n",
       "  if (typeof root._bokeh_onload_callbacks === \"undefined\" || force === true) {\n",
       "    root._bokeh_onload_callbacks = [];\n",
       "    root._bokeh_is_loading = undefined;\n",
       "  }\n",
       "\n",
       "  var JS_MIME_TYPE = 'application/javascript';\n",
       "  var HTML_MIME_TYPE = 'text/html';\n",
       "  var EXEC_MIME_TYPE = 'application/vnd.bokehjs_exec.v0+json';\n",
       "  var CLASS_NAME = 'output_bokeh rendered_html';\n",
       "\n",
       "  /**\n",
       "   * Render data to the DOM node\n",
       "   */\n",
       "  function render(props, node) {\n",
       "    var script = document.createElement(\"script\");\n",
       "    node.appendChild(script);\n",
       "  }\n",
       "\n",
       "  /**\n",
       "   * Handle when an output is cleared or removed\n",
       "   */\n",
       "  function handleClearOutput(event, handle) {\n",
       "    var cell = handle.cell;\n",
       "\n",
       "    var id = cell.output_area._bokeh_element_id;\n",
       "    var server_id = cell.output_area._bokeh_server_id;\n",
       "    // Clean up Bokeh references\n",
       "    if (id != null && id in Bokeh.index) {\n",
       "      Bokeh.index[id].model.document.clear();\n",
       "      delete Bokeh.index[id];\n",
       "    }\n",
       "\n",
       "    if (server_id !== undefined) {\n",
       "      // Clean up Bokeh references\n",
       "      var cmd = \"from bokeh.io.state import curstate; print(curstate().uuid_to_server['\" + server_id + \"'].get_sessions()[0].document.roots[0]._id)\";\n",
       "      cell.notebook.kernel.execute(cmd, {\n",
       "        iopub: {\n",
       "          output: function(msg) {\n",
       "            var id = msg.content.text.trim();\n",
       "            if (id in Bokeh.index) {\n",
       "              Bokeh.index[id].model.document.clear();\n",
       "              delete Bokeh.index[id];\n",
       "            }\n",
       "          }\n",
       "        }\n",
       "      });\n",
       "      // Destroy server and session\n",
       "      var cmd = \"import bokeh.io.notebook as ion; ion.destroy_server('\" + server_id + \"')\";\n",
       "      cell.notebook.kernel.execute(cmd);\n",
       "    }\n",
       "  }\n",
       "\n",
       "  /**\n",
       "   * Handle when a new output is added\n",
       "   */\n",
       "  function handleAddOutput(event, handle) {\n",
       "    var output_area = handle.output_area;\n",
       "    var output = handle.output;\n",
       "\n",
       "    // limit handleAddOutput to display_data with EXEC_MIME_TYPE content only\n",
       "    if ((output.output_type != \"display_data\") || (!output.data.hasOwnProperty(EXEC_MIME_TYPE))) {\n",
       "      return\n",
       "    }\n",
       "\n",
       "    var toinsert = output_area.element.find(\".\" + CLASS_NAME.split(' ')[0]);\n",
       "\n",
       "    if (output.metadata[EXEC_MIME_TYPE][\"id\"] !== undefined) {\n",
       "      toinsert[toinsert.length - 1].firstChild.textContent = output.data[JS_MIME_TYPE];\n",
       "      // store reference to embed id on output_area\n",
       "      output_area._bokeh_element_id = output.metadata[EXEC_MIME_TYPE][\"id\"];\n",
       "    }\n",
       "    if (output.metadata[EXEC_MIME_TYPE][\"server_id\"] !== undefined) {\n",
       "      var bk_div = document.createElement(\"div\");\n",
       "      bk_div.innerHTML = output.data[HTML_MIME_TYPE];\n",
       "      var script_attrs = bk_div.children[0].attributes;\n",
       "      for (var i = 0; i < script_attrs.length; i++) {\n",
       "        toinsert[toinsert.length - 1].firstChild.setAttribute(script_attrs[i].name, script_attrs[i].value);\n",
       "        toinsert[toinsert.length - 1].firstChild.textContent = bk_div.children[0].textContent\n",
       "      }\n",
       "      // store reference to server id on output_area\n",
       "      output_area._bokeh_server_id = output.metadata[EXEC_MIME_TYPE][\"server_id\"];\n",
       "    }\n",
       "  }\n",
       "\n",
       "  function register_renderer(events, OutputArea) {\n",
       "\n",
       "    function append_mime(data, metadata, element) {\n",
       "      // create a DOM node to render to\n",
       "      var toinsert = this.create_output_subarea(\n",
       "        metadata,\n",
       "        CLASS_NAME,\n",
       "        EXEC_MIME_TYPE\n",
       "      );\n",
       "      this.keyboard_manager.register_events(toinsert);\n",
       "      // Render to node\n",
       "      var props = {data: data, metadata: metadata[EXEC_MIME_TYPE]};\n",
       "      render(props, toinsert[toinsert.length - 1]);\n",
       "      element.append(toinsert);\n",
       "      return toinsert\n",
       "    }\n",
       "\n",
       "    /* Handle when an output is cleared or removed */\n",
       "    events.on('clear_output.CodeCell', handleClearOutput);\n",
       "    events.on('delete.Cell', handleClearOutput);\n",
       "\n",
       "    /* Handle when a new output is added */\n",
       "    events.on('output_added.OutputArea', handleAddOutput);\n",
       "\n",
       "    /**\n",
       "     * Register the mime type and append_mime function with output_area\n",
       "     */\n",
       "    OutputArea.prototype.register_mime_type(EXEC_MIME_TYPE, append_mime, {\n",
       "      /* Is output safe? */\n",
       "      safe: true,\n",
       "      /* Index of renderer in `output_area.display_order` */\n",
       "      index: 0\n",
       "    });\n",
       "  }\n",
       "\n",
       "  // register the mime type if in Jupyter Notebook environment and previously unregistered\n",
       "  if (root.Jupyter !== undefined) {\n",
       "    var events = require('base/js/events');\n",
       "    var OutputArea = require('notebook/js/outputarea').OutputArea;\n",
       "\n",
       "    if (OutputArea.prototype.mime_types().indexOf(EXEC_MIME_TYPE) == -1) {\n",
       "      register_renderer(events, OutputArea);\n",
       "    }\n",
       "  }\n",
       "\n",
       "  \n",
       "  if (typeof (root._bokeh_timeout) === \"undefined\" || force === true) {\n",
       "    root._bokeh_timeout = Date.now() + 5000;\n",
       "    root._bokeh_failed_load = false;\n",
       "  }\n",
       "\n",
       "  var NB_LOAD_WARNING = {'data': {'text/html':\n",
       "     \"<div style='background-color: #fdd'>\\n\"+\n",
       "     \"<p>\\n\"+\n",
       "     \"BokehJS does not appear to have successfully loaded. If loading BokehJS from CDN, this \\n\"+\n",
       "     \"may be due to a slow or bad network connection. Possible fixes:\\n\"+\n",
       "     \"</p>\\n\"+\n",
       "     \"<ul>\\n\"+\n",
       "     \"<li>re-rerun `output_notebook()` to attempt to load from CDN again, or</li>\\n\"+\n",
       "     \"<li>use INLINE resources instead, as so:</li>\\n\"+\n",
       "     \"</ul>\\n\"+\n",
       "     \"<code>\\n\"+\n",
       "     \"from bokeh.resources import INLINE\\n\"+\n",
       "     \"output_notebook(resources=INLINE)\\n\"+\n",
       "     \"</code>\\n\"+\n",
       "     \"</div>\"}};\n",
       "\n",
       "  function display_loaded() {\n",
       "    var el = document.getElementById(\"1001\");\n",
       "    if (el != null) {\n",
       "      el.textContent = \"BokehJS is loading...\";\n",
       "    }\n",
       "    if (root.Bokeh !== undefined) {\n",
       "      if (el != null) {\n",
       "        el.textContent = \"BokehJS \" + root.Bokeh.version + \" successfully loaded.\";\n",
       "      }\n",
       "    } else if (Date.now() < root._bokeh_timeout) {\n",
       "      setTimeout(display_loaded, 100)\n",
       "    }\n",
       "  }\n",
       "\n",
       "\n",
       "  function run_callbacks() {\n",
       "    try {\n",
       "      root._bokeh_onload_callbacks.forEach(function(callback) {\n",
       "        if (callback != null)\n",
       "          callback();\n",
       "      });\n",
       "    } finally {\n",
       "      delete root._bokeh_onload_callbacks\n",
       "    }\n",
       "    console.debug(\"Bokeh: all callbacks have finished\");\n",
       "  }\n",
       "\n",
       "  function load_libs(css_urls, js_urls, callback) {\n",
       "    if (css_urls == null) css_urls = [];\n",
       "    if (js_urls == null) js_urls = [];\n",
       "\n",
       "    root._bokeh_onload_callbacks.push(callback);\n",
       "    if (root._bokeh_is_loading > 0) {\n",
       "      console.debug(\"Bokeh: BokehJS is being loaded, scheduling callback at\", now());\n",
       "      return null;\n",
       "    }\n",
       "    if (js_urls == null || js_urls.length === 0) {\n",
       "      run_callbacks();\n",
       "      return null;\n",
       "    }\n",
       "    console.debug(\"Bokeh: BokehJS not loaded, scheduling load and callback at\", now());\n",
       "    root._bokeh_is_loading = css_urls.length + js_urls.length;\n",
       "\n",
       "    function on_load() {\n",
       "      root._bokeh_is_loading--;\n",
       "      if (root._bokeh_is_loading === 0) {\n",
       "        console.debug(\"Bokeh: all BokehJS libraries/stylesheets loaded\");\n",
       "        run_callbacks()\n",
       "      }\n",
       "    }\n",
       "\n",
       "    function on_error() {\n",
       "      console.error(\"failed to load \" + url);\n",
       "    }\n",
       "\n",
       "    for (var i = 0; i < css_urls.length; i++) {\n",
       "      var url = css_urls[i];\n",
       "      const element = document.createElement(\"link\");\n",
       "      element.onload = on_load;\n",
       "      element.onerror = on_error;\n",
       "      element.rel = \"stylesheet\";\n",
       "      element.type = \"text/css\";\n",
       "      element.href = url;\n",
       "      console.debug(\"Bokeh: injecting link tag for BokehJS stylesheet: \", url);\n",
       "      document.body.appendChild(element);\n",
       "    }\n",
       "\n",
       "    const hashes = {\"https://cdn.bokeh.org/bokeh/release/bokeh-2.0.1.min.js\": \"JpP8FXbgAZLkfur7LiK3j9AGBhHNIvF742meBJrjO2ShJDhCG2I1uVvW+0DUtrmc\", \"https://cdn.bokeh.org/bokeh/release/bokeh-widgets-2.0.1.min.js\": \"xZlADit0Q04ISQEdKg2k3L4W9AwQBAuDs9nJL9fM/WwzL1tEU9VPNezOFX0nLEAz\", \"https://cdn.bokeh.org/bokeh/release/bokeh-tables-2.0.1.min.js\": \"4BuPRZkdMKSnj3zoxiNrQ86XgNw0rYmBOxe7nshquXwwcauupgBF2DHLVG1WuZlV\", \"https://cdn.bokeh.org/bokeh/release/bokeh-gl-2.0.1.min.js\": \"Dv1SQ87hmDqK6S5OhBf0bCuwAEvL5QYL0PuR/F1SPVhCS/r/abjkbpKDYL2zeM19\"};\n",
       "\n",
       "    for (var i = 0; i < js_urls.length; i++) {\n",
       "      var url = js_urls[i];\n",
       "      var element = document.createElement('script');\n",
       "      element.onload = on_load;\n",
       "      element.onerror = on_error;\n",
       "      element.async = false;\n",
       "      element.src = url;\n",
       "      if (url in hashes) {\n",
       "        element.crossOrigin = \"anonymous\";\n",
       "        element.integrity = \"sha384-\" + hashes[url];\n",
       "      }\n",
       "      console.debug(\"Bokeh: injecting script tag for BokehJS library: \", url);\n",
       "      document.head.appendChild(element);\n",
       "    }\n",
       "  };var element = document.getElementById(\"1001\");\n",
       "  if (element == null) {\n",
       "    console.error(\"Bokeh: ERROR: autoload.js configured with elementid '1001' but no matching script tag was found. \")\n",
       "    return false;\n",
       "  }\n",
       "\n",
       "  function inject_raw_css(css) {\n",
       "    const element = document.createElement(\"style\");\n",
       "    element.appendChild(document.createTextNode(css));\n",
       "    document.body.appendChild(element);\n",
       "  }\n",
       "\n",
       "  \n",
       "  var js_urls = [\"https://cdn.bokeh.org/bokeh/release/bokeh-2.0.1.min.js\", \"https://cdn.bokeh.org/bokeh/release/bokeh-widgets-2.0.1.min.js\", \"https://cdn.bokeh.org/bokeh/release/bokeh-tables-2.0.1.min.js\", \"https://cdn.bokeh.org/bokeh/release/bokeh-gl-2.0.1.min.js\"];\n",
       "  var css_urls = [];\n",
       "  \n",
       "\n",
       "  var inline_js = [\n",
       "    function(Bokeh) {\n",
       "      Bokeh.set_log_level(\"info\");\n",
       "    },\n",
       "    function(Bokeh) {\n",
       "    \n",
       "    \n",
       "    }\n",
       "  ];\n",
       "\n",
       "  function run_inline_js() {\n",
       "    \n",
       "    if (root.Bokeh !== undefined || force === true) {\n",
       "      \n",
       "    for (var i = 0; i < inline_js.length; i++) {\n",
       "      inline_js[i].call(root, root.Bokeh);\n",
       "    }\n",
       "    if (force === true) {\n",
       "        display_loaded();\n",
       "      }} else if (Date.now() < root._bokeh_timeout) {\n",
       "      setTimeout(run_inline_js, 100);\n",
       "    } else if (!root._bokeh_failed_load) {\n",
       "      console.log(\"Bokeh: BokehJS failed to load within specified timeout.\");\n",
       "      root._bokeh_failed_load = true;\n",
       "    } else if (force !== true) {\n",
       "      var cell = $(document.getElementById(\"1001\")).parents('.cell').data().cell;\n",
       "      cell.output_area.append_execute_result(NB_LOAD_WARNING)\n",
       "    }\n",
       "\n",
       "  }\n",
       "\n",
       "  if (root._bokeh_is_loading === 0) {\n",
       "    console.debug(\"Bokeh: BokehJS loaded, going straight to plotting\");\n",
       "    run_inline_js();\n",
       "  } else {\n",
       "    load_libs(css_urls, js_urls, function() {\n",
       "      console.debug(\"Bokeh: BokehJS plotting callback run at\", now());\n",
       "      run_inline_js();\n",
       "    });\n",
       "  }\n",
       "}(window));"
      ],
      "application/vnd.bokehjs_load.v0+json": "\n(function(root) {\n  function now() {\n    return new Date();\n  }\n\n  var force = true;\n\n  if (typeof root._bokeh_onload_callbacks === \"undefined\" || force === true) {\n    root._bokeh_onload_callbacks = [];\n    root._bokeh_is_loading = undefined;\n  }\n\n  \n\n  \n  if (typeof (root._bokeh_timeout) === \"undefined\" || force === true) {\n    root._bokeh_timeout = Date.now() + 5000;\n    root._bokeh_failed_load = false;\n  }\n\n  var NB_LOAD_WARNING = {'data': {'text/html':\n     \"<div style='background-color: #fdd'>\\n\"+\n     \"<p>\\n\"+\n     \"BokehJS does not appear to have successfully loaded. If loading BokehJS from CDN, this \\n\"+\n     \"may be due to a slow or bad network connection. Possible fixes:\\n\"+\n     \"</p>\\n\"+\n     \"<ul>\\n\"+\n     \"<li>re-rerun `output_notebook()` to attempt to load from CDN again, or</li>\\n\"+\n     \"<li>use INLINE resources instead, as so:</li>\\n\"+\n     \"</ul>\\n\"+\n     \"<code>\\n\"+\n     \"from bokeh.resources import INLINE\\n\"+\n     \"output_notebook(resources=INLINE)\\n\"+\n     \"</code>\\n\"+\n     \"</div>\"}};\n\n  function display_loaded() {\n    var el = document.getElementById(\"1001\");\n    if (el != null) {\n      el.textContent = \"BokehJS is loading...\";\n    }\n    if (root.Bokeh !== undefined) {\n      if (el != null) {\n        el.textContent = \"BokehJS \" + root.Bokeh.version + \" successfully loaded.\";\n      }\n    } else if (Date.now() < root._bokeh_timeout) {\n      setTimeout(display_loaded, 100)\n    }\n  }\n\n\n  function run_callbacks() {\n    try {\n      root._bokeh_onload_callbacks.forEach(function(callback) {\n        if (callback != null)\n          callback();\n      });\n    } finally {\n      delete root._bokeh_onload_callbacks\n    }\n    console.debug(\"Bokeh: all callbacks have finished\");\n  }\n\n  function load_libs(css_urls, js_urls, callback) {\n    if (css_urls == null) css_urls = [];\n    if (js_urls == null) js_urls = [];\n\n    root._bokeh_onload_callbacks.push(callback);\n    if (root._bokeh_is_loading > 0) {\n      console.debug(\"Bokeh: BokehJS is being loaded, scheduling callback at\", now());\n      return null;\n    }\n    if (js_urls == null || js_urls.length === 0) {\n      run_callbacks();\n      return null;\n    }\n    console.debug(\"Bokeh: BokehJS not loaded, scheduling load and callback at\", now());\n    root._bokeh_is_loading = css_urls.length + js_urls.length;\n\n    function on_load() {\n      root._bokeh_is_loading--;\n      if (root._bokeh_is_loading === 0) {\n        console.debug(\"Bokeh: all BokehJS libraries/stylesheets loaded\");\n        run_callbacks()\n      }\n    }\n\n    function on_error() {\n      console.error(\"failed to load \" + url);\n    }\n\n    for (var i = 0; i < css_urls.length; i++) {\n      var url = css_urls[i];\n      const element = document.createElement(\"link\");\n      element.onload = on_load;\n      element.onerror = on_error;\n      element.rel = \"stylesheet\";\n      element.type = \"text/css\";\n      element.href = url;\n      console.debug(\"Bokeh: injecting link tag for BokehJS stylesheet: \", url);\n      document.body.appendChild(element);\n    }\n\n    const hashes = {\"https://cdn.bokeh.org/bokeh/release/bokeh-2.0.1.min.js\": \"JpP8FXbgAZLkfur7LiK3j9AGBhHNIvF742meBJrjO2ShJDhCG2I1uVvW+0DUtrmc\", \"https://cdn.bokeh.org/bokeh/release/bokeh-widgets-2.0.1.min.js\": \"xZlADit0Q04ISQEdKg2k3L4W9AwQBAuDs9nJL9fM/WwzL1tEU9VPNezOFX0nLEAz\", \"https://cdn.bokeh.org/bokeh/release/bokeh-tables-2.0.1.min.js\": \"4BuPRZkdMKSnj3zoxiNrQ86XgNw0rYmBOxe7nshquXwwcauupgBF2DHLVG1WuZlV\", \"https://cdn.bokeh.org/bokeh/release/bokeh-gl-2.0.1.min.js\": \"Dv1SQ87hmDqK6S5OhBf0bCuwAEvL5QYL0PuR/F1SPVhCS/r/abjkbpKDYL2zeM19\"};\n\n    for (var i = 0; i < js_urls.length; i++) {\n      var url = js_urls[i];\n      var element = document.createElement('script');\n      element.onload = on_load;\n      element.onerror = on_error;\n      element.async = false;\n      element.src = url;\n      if (url in hashes) {\n        element.crossOrigin = \"anonymous\";\n        element.integrity = \"sha384-\" + hashes[url];\n      }\n      console.debug(\"Bokeh: injecting script tag for BokehJS library: \", url);\n      document.head.appendChild(element);\n    }\n  };var element = document.getElementById(\"1001\");\n  if (element == null) {\n    console.error(\"Bokeh: ERROR: autoload.js configured with elementid '1001' but no matching script tag was found. \")\n    return false;\n  }\n\n  function inject_raw_css(css) {\n    const element = document.createElement(\"style\");\n    element.appendChild(document.createTextNode(css));\n    document.body.appendChild(element);\n  }\n\n  \n  var js_urls = [\"https://cdn.bokeh.org/bokeh/release/bokeh-2.0.1.min.js\", \"https://cdn.bokeh.org/bokeh/release/bokeh-widgets-2.0.1.min.js\", \"https://cdn.bokeh.org/bokeh/release/bokeh-tables-2.0.1.min.js\", \"https://cdn.bokeh.org/bokeh/release/bokeh-gl-2.0.1.min.js\"];\n  var css_urls = [];\n  \n\n  var inline_js = [\n    function(Bokeh) {\n      Bokeh.set_log_level(\"info\");\n    },\n    function(Bokeh) {\n    \n    \n    }\n  ];\n\n  function run_inline_js() {\n    \n    if (root.Bokeh !== undefined || force === true) {\n      \n    for (var i = 0; i < inline_js.length; i++) {\n      inline_js[i].call(root, root.Bokeh);\n    }\n    if (force === true) {\n        display_loaded();\n      }} else if (Date.now() < root._bokeh_timeout) {\n      setTimeout(run_inline_js, 100);\n    } else if (!root._bokeh_failed_load) {\n      console.log(\"Bokeh: BokehJS failed to load within specified timeout.\");\n      root._bokeh_failed_load = true;\n    } else if (force !== true) {\n      var cell = $(document.getElementById(\"1001\")).parents('.cell').data().cell;\n      cell.output_area.append_execute_result(NB_LOAD_WARNING)\n    }\n\n  }\n\n  if (root._bokeh_is_loading === 0) {\n    console.debug(\"Bokeh: BokehJS loaded, going straight to plotting\");\n    run_inline_js();\n  } else {\n    load_libs(css_urls, js_urls, function() {\n      console.debug(\"Bokeh: BokehJS plotting callback run at\", now());\n      run_inline_js();\n    });\n  }\n}(window));"
     },
     "metadata": {},
     "output_type": "display_data"
    },
    {
     "name": "stderr",
     "output_type": "stream",
     "text": [
      "/opt/conda/lib/python3.7/site-packages/ipykernel_launcher.py:13: DeprecationWarning: Call to deprecated `wv` (Attribute will be removed in 4.0.0, use self instead).\n",
      "  del sys.path[0]\n"
     ]
    },
    {
     "name": "stdout",
     "output_type": "stream",
     "text": [
      "[t-SNE] Computing 91 nearest neighbors...\n",
      "[t-SNE] Indexed 5000 samples in 0.112s...\n",
      "[t-SNE] Computed neighbors for 5000 samples in 14.994s...\n",
      "[t-SNE] Computed conditional probabilities for sample 1000 / 5000\n",
      "[t-SNE] Computed conditional probabilities for sample 2000 / 5000\n",
      "[t-SNE] Computed conditional probabilities for sample 3000 / 5000\n",
      "[t-SNE] Computed conditional probabilities for sample 4000 / 5000\n",
      "[t-SNE] Computed conditional probabilities for sample 5000 / 5000\n",
      "[t-SNE] Mean sigma: 0.913500\n",
      "[t-SNE] KL divergence after 250 iterations with early exaggeration: 102.172676\n",
      "[t-SNE] KL divergence after 1000 iterations: 2.407070\n"
     ]
    },
    {
     "name": "stderr",
     "output_type": "stream",
     "text": [
      "/opt/conda/lib/python3.7/site-packages/ipykernel_launcher.py:22: DeprecationWarning: Call to deprecated `wv` (Attribute will be removed in 4.0.0, use self instead).\n"
     ]
    },
    {
     "data": {
      "text/html": [
       "\n",
       "\n",
       "\n",
       "\n",
       "\n",
       "\n",
       "  <div class=\"bk-root\" id=\"16ce5353-9252-4ff4-af22-0634100fc6ca\" data-root-id=\"1002\"></div>\n"
      ]
     },
     "metadata": {},
     "output_type": "display_data"
    },
    {
     "data": {
      "application/javascript": [
       "(function(root) {\n",
       "  function embed_document(root) {\n",
       "    \n",
       "  var docs_json = {\"821e1376-c226-4555-9b92-ef6eae5d33ee\":{\"roots\":{\"references\":[{\"attributes\":{\"min_border\":1,\"plot_height\":400,\"plot_width\":500,\"renderers\":[{\"id\":\"1029\"}],\"title\":{\"id\":\"1003\"},\"toolbar\":{\"id\":\"1019\"},\"x_range\":{\"id\":\"1005\"},\"x_scale\":{\"id\":\"1009\"},\"y_range\":{\"id\":\"1007\"},\"y_scale\":{\"id\":\"1011\"}},\"id\":\"1002\",\"subtype\":\"Figure\",\"type\":\"Plot\"},{\"attributes\":{},\"id\":\"1013\",\"type\":\"PanTool\"},{\"attributes\":{\"active_drag\":\"auto\",\"active_inspect\":\"auto\",\"active_multi\":null,\"active_scroll\":\"auto\",\"active_tap\":\"auto\",\"tools\":[{\"id\":\"1013\"},{\"id\":\"1014\"},{\"id\":\"1015\"},{\"id\":\"1016\"},{\"id\":\"1017\"}]},\"id\":\"1019\",\"type\":\"Toolbar\"},{\"attributes\":{\"fill_color\":{\"value\":\"darkcyan\"},\"line_color\":{\"value\":\"darkcyan\"},\"x\":{\"field\":\"x\"},\"y\":{\"field\":\"y\"}},\"id\":\"1027\",\"type\":\"Scatter\"},{\"attributes\":{\"bottom_units\":\"screen\",\"fill_alpha\":0.5,\"fill_color\":\"lightgrey\",\"left_units\":\"screen\",\"level\":\"overlay\",\"line_alpha\":1.0,\"line_color\":\"black\",\"line_dash\":[4,4],\"line_width\":2,\"render_mode\":\"css\",\"right_units\":\"screen\",\"top_units\":\"screen\"},\"id\":\"1018\",\"type\":\"BoxAnnotation\"},{\"attributes\":{},\"id\":\"1032\",\"type\":\"Selection\"},{\"attributes\":{\"data\":{\"index\":[0,1,2,3,4,5,6,7,8,9,10,11,12,13,14,15,16,17,18,19,20,21,22,23,24,25,26,27,28,29,30,31,32,33,34,35,36,37,38,39,40,41,42,43,44,45,46,47,48,49,50,51,52,53,54,55,56,57,58,59,60,61,62,63,64,65,66,67,68,69,70,71,72,73,74,75,76,77,78,79,80,81,82,83,84,85,86,87,88,89,90,91,92,93,94,95,96,97,98,99,100,101,102,103,104,105,106,107,108,109,110,111,112,113,114,115,116,117,118,119,120,121,122,123,124,125,126,127,128,129,130,131,132,133,134,135,136,137,138,139,140,141,142,143,144,145,146,147,148,149,150,151,152,153,154,155,156,157,158,159,160,161,162,163,164,165,166,167,168,169,170,171,172,173,174,175,176,177,178,179,180,181,182,183,184,185,186,187,188,189,190,191,192,193,194,195,196,197,198,199,200,201,202,203,204,205,206,207,208,209,210,211,212,213,214,215,216,217,218,219,220,221,222,223,224,225,226,227,228,229,230,231,232,233,234,235,236,237,238,239,240,241,242,243,244,245,246,247,248,249,250,251,252,253,254,255,256,257,258,259,260,261,262,263,264,265,266,267,268,269,270,271,272,273,274,275,276,277,278,279,280,281,282,283,284,285,286,287,288,289,290,291,292,293,294,295,296,297,298,299,300,301,302,303,304,305,306,307,308,309,310,311,312,313,314,315,316,317,318,319,320,321,322,323,324,325,326,327,328,329,330,331,332,333,334,335,336,337,338,339,340,341,342,343,344,345,346,347,348,349,350,351,352,353,354,355,356,357,358,359,360,361,362,363,364,365,366,367,368,369,370,371,372,373,374,375,376,377,378,379,380,381,382,383,384,385,386,387,388,389,390,391,392,393,394,395,396,397,398,399,400,401,402,403,404,405,406,407,408,409,410,411,412,413,414,415,416,417,418,419,420,421,422,423,424,425,426,427,428,429,430,431,432,433,434,435,436,437,438,439,440,441,442,443,444,445,446,447,448,449,450,451,452,453,454,455,456,457,458,459,460,461,462,463,464,465,466,467,468,469,470,471,472,473,474,475,476,477,478,479,480,481,482,483,484,485,486,487,488,489,490,491,492,493,494,495,496,497,498,499,500,501,502,503,504,505,506,507,508,509,510,511,512,513,514,515,516,517,518,519,520,521,522,523,524,525,526,527,528,529,530,531,532,533,534,535,536,537,538,539,540,541,542,543,544,545,546,547,548,549,550,551,552,553,554,555,556,557,558,559,560,561,562,563,564,565,566,567,568,569,570,571,572,573,574,575,576,577,578,579,580,581,582,583,584,585,586,587,588,589,590,591,592,593,594,595,596,597,598,599,600,601,602,603,604,605,606,607,608,609,610,611,612,613,614,615,616,617,618,619,620,621,622,623,624,625,626,627,628,629,630,631,632,633,634,635,636,637,638,639,640,641,642,643,644,645,646,647,648,649,650,651,652,653,654,655,656,657,658,659,660,661,662,663,664,665,666,667,668,669,670,671,672,673,674,675,676,677,678,679,680,681,682,683,684,685,686,687,688,689,690,691,692,693,694,695,696,697,698,699,700,701,702,703,704,705,706,707,708,709,710,711,712,713,714,715,716,717,718,719,720,721,722,723,724,725,726,727,728,729,730,731,732,733,734,735,736,737,738,739,740,741,742,743,744,745,746,747,748,749,750,751,752,753,754,755,756,757,758,759,760,761,762,763,764,765,766,767,768,769,770,771,772,773,774,775,776,777,778,779,780,781,782,783,784,785,786,787,788,789,790,791,792,793,794,795,796,797,798,799,800,801,802,803,804,805,806,807,808,809,810,811,812,813,814,815,816,817,818,819,820,821,822,823,824,825,826,827,828,829,830,831,832,833,834,835,836,837,838,839,840,841,842,843,844,845,846,847,848,849,850,851,852,853,854,855,856,857,858,859,860,861,862,863,864,865,866,867,868,869,870,871,872,873,874,875,876,877,878,879,880,881,882,883,884,885,886,887,888,889,890,891,892,893,894,895,896,897,898,899,900,901,902,903,904,905,906,907,908,909,910,911,912,913,914,915,916,917,918,919,920,921,922,923,924,925,926,927,928,929,930,931,932,933,934,935,936,937,938,939,940,941,942,943,944,945,946,947,948,949,950,951,952,953,954,955,956,957,958,959,960,961,962,963,964,965,966,967,968,969,970,971,972,973,974,975,976,977,978,979,980,981,982,983,984,985,986,987,988,989,990,991,992,993,994,995,996,997,998,999,1000,1001,1002,1003,1004,1005,1006,1007,1008,1009,1010,1011,1012,1013,1014,1015,1016,1017,1018,1019,1020,1021,1022,1023,1024,1025,1026,1027,1028,1029,1030,1031,1032,1033,1034,1035,1036,1037,1038,1039,1040,1041,1042,1043,1044,1045,1046,1047,1048,1049,1050,1051,1052,1053,1054,1055,1056,1057,1058,1059,1060,1061,1062,1063,1064,1065,1066,1067,1068,1069,1070,1071,1072,1073,1074,1075,1076,1077,1078,1079,1080,1081,1082,1083,1084,1085,1086,1087,1088,1089,1090,1091,1092,1093,1094,1095,1096,1097,1098,1099,1100,1101,1102,1103,1104,1105,1106,1107,1108,1109,1110,1111,1112,1113,1114,1115,1116,1117,1118,1119,1120,1121,1122,1123,1124,1125,1126,1127,1128,1129,1130,1131,1132,1133,1134,1135,1136,1137,1138,1139,1140,1141,1142,1143,1144,1145,1146,1147,1148,1149,1150,1151,1152,1153,1154,1155,1156,1157,1158,1159,1160,1161,1162,1163,1164,1165,1166,1167,1168,1169,1170,1171,1172,1173,1174,1175,1176,1177,1178,1179,1180,1181,1182,1183,1184,1185,1186,1187,1188,1189,1190,1191,1192,1193,1194,1195,1196,1197,1198,1199,1200,1201,1202,1203,1204,1205,1206,1207,1208,1209,1210,1211,1212,1213,1214,1215,1216,1217,1218,1219,1220,1221,1222,1223,1224,1225,1226,1227,1228,1229,1230,1231,1232,1233,1234,1235,1236,1237,1238,1239,1240,1241,1242,1243,1244,1245,1246,1247,1248,1249,1250,1251,1252,1253,1254,1255,1256,1257,1258,1259,1260,1261,1262,1263,1264,1265,1266,1267,1268,1269,1270,1271,1272,1273,1274,1275,1276,1277,1278,1279,1280,1281,1282,1283,1284,1285,1286,1287,1288,1289,1290,1291,1292,1293,1294,1295,1296,1297,1298,1299,1300,1301,1302,1303,1304,1305,1306,1307,1308,1309,1310,1311,1312,1313,1314,1315,1316,1317,1318,1319,1320,1321,1322,1323,1324,1325,1326,1327,1328,1329,1330,1331,1332,1333,1334,1335,1336,1337,1338,1339,1340,1341,1342,1343,1344,1345,1346,1347,1348,1349,1350,1351,1352,1353,1354,1355,1356,1357,1358,1359,1360,1361,1362,1363,1364,1365,1366,1367,1368,1369,1370,1371,1372,1373,1374,1375,1376,1377,1378,1379,1380,1381,1382,1383,1384,1385,1386,1387,1388,1389,1390,1391,1392,1393,1394,1395,1396,1397,1398,1399,1400,1401,1402,1403,1404,1405,1406,1407,1408,1409,1410,1411,1412,1413,1414,1415,1416,1417,1418,1419,1420,1421,1422,1423,1424,1425,1426,1427,1428,1429,1430,1431,1432,1433,1434,1435,1436,1437,1438,1439,1440,1441,1442,1443,1444,1445,1446,1447,1448,1449,1450,1451,1452,1453,1454,1455,1456,1457,1458,1459,1460,1461,1462,1463,1464,1465,1466,1467,1468,1469,1470,1471,1472,1473,1474,1475,1476,1477,1478,1479,1480,1481,1482,1483,1484,1485,1486,1487,1488,1489,1490,1491,1492,1493,1494,1495,1496,1497,1498,1499,1500,1501,1502,1503,1504,1505,1506,1507,1508,1509,1510,1511,1512,1513,1514,1515,1516,1517,1518,1519,1520,1521,1522,1523,1524,1525,1526,1527,1528,1529,1530,1531,1532,1533,1534,1535,1536,1537,1538,1539,1540,1541,1542,1543,1544,1545,1546,1547,1548,1549,1550,1551,1552,1553,1554,1555,1556,1557,1558,1559,1560,1561,1562,1563,1564,1565,1566,1567,1568,1569,1570,1571,1572,1573,1574,1575,1576,1577,1578,1579,1580,1581,1582,1583,1584,1585,1586,1587,1588,1589,1590,1591,1592,1593,1594,1595,1596,1597,1598,1599,1600,1601,1602,1603,1604,1605,1606,1607,1608,1609,1610,1611,1612,1613,1614,1615,1616,1617,1618,1619,1620,1621,1622,1623,1624,1625,1626,1627,1628,1629,1630,1631,1632,1633,1634,1635,1636,1637,1638,1639,1640,1641,1642,1643,1644,1645,1646,1647,1648,1649,1650,1651,1652,1653,1654,1655,1656,1657,1658,1659,1660,1661,1662,1663,1664,1665,1666,1667,1668,1669,1670,1671,1672,1673,1674,1675,1676,1677,1678,1679,1680,1681,1682,1683,1684,1685,1686,1687,1688,1689,1690,1691,1692,1693,1694,1695,1696,1697,1698,1699,1700,1701,1702,1703,1704,1705,1706,1707,1708,1709,1710,1711,1712,1713,1714,1715,1716,1717,1718,1719,1720,1721,1722,1723,1724,1725,1726,1727,1728,1729,1730,1731,1732,1733,1734,1735,1736,1737,1738,1739,1740,1741,1742,1743,1744,1745,1746,1747,1748,1749,1750,1751,1752,1753,1754,1755,1756,1757,1758,1759,1760,1761,1762,1763,1764,1765,1766,1767,1768,1769,1770,1771,1772,1773,1774,1775,1776,1777,1778,1779,1780,1781,1782,1783,1784,1785,1786,1787,1788,1789,1790,1791,1792,1793,1794,1795,1796,1797,1798,1799,1800,1801,1802,1803,1804,1805,1806,1807,1808,1809,1810,1811,1812,1813,1814,1815,1816,1817,1818,1819,1820,1821,1822,1823,1824,1825,1826,1827,1828,1829,1830,1831,1832,1833,1834,1835,1836,1837,1838,1839,1840,1841,1842,1843,1844,1845,1846,1847,1848,1849,1850,1851,1852,1853,1854,1855,1856,1857,1858,1859,1860,1861,1862,1863,1864,1865,1866,1867,1868,1869,1870,1871,1872,1873,1874,1875,1876,1877,1878,1879,1880,1881,1882,1883,1884,1885,1886,1887,1888,1889,1890,1891,1892,1893,1894,1895,1896,1897,1898,1899,1900,1901,1902,1903,1904,1905,1906,1907,1908,1909,1910,1911,1912,1913,1914,1915,1916,1917,1918,1919,1920,1921,1922,1923,1924,1925,1926,1927,1928,1929,1930,1931,1932,1933,1934,1935,1936,1937,1938,1939,1940,1941,1942,1943,1944,1945,1946,1947,1948,1949,1950,1951,1952,1953,1954,1955,1956,1957,1958,1959,1960,1961,1962,1963,1964,1965,1966,1967,1968,1969,1970,1971,1972,1973,1974,1975,1976,1977,1978,1979,1980,1981,1982,1983,1984,1985,1986,1987,1988,1989,1990,1991,1992,1993,1994,1995,1996,1997,1998,1999,2000,2001,2002,2003,2004,2005,2006,2007,2008,2009,2010,2011,2012,2013,2014,2015,2016,2017,2018,2019,2020,2021,2022,2023,2024,2025,2026,2027,2028,2029,2030,2031,2032,2033,2034,2035,2036,2037,2038,2039,2040,2041,2042,2043,2044,2045,2046,2047,2048,2049,2050,2051,2052,2053,2054,2055,2056,2057,2058,2059,2060,2061,2062,2063,2064,2065,2066,2067,2068,2069,2070,2071,2072,2073,2074,2075,2076,2077,2078,2079,2080,2081,2082,2083,2084,2085,2086,2087,2088,2089,2090,2091,2092,2093,2094,2095,2096,2097,2098,2099,2100,2101,2102,2103,2104,2105,2106,2107,2108,2109,2110,2111,2112,2113,2114,2115,2116,2117,2118,2119,2120,2121,2122,2123,2124,2125,2126,2127,2128,2129,2130,2131,2132,2133,2134,2135,2136,2137,2138,2139,2140,2141,2142,2143,2144,2145,2146,2147,2148,2149,2150,2151,2152,2153,2154,2155,2156,2157,2158,2159,2160,2161,2162,2163,2164,2165,2166,2167,2168,2169,2170,2171,2172,2173,2174,2175,2176,2177,2178,2179,2180,2181,2182,2183,2184,2185,2186,2187,2188,2189,2190,2191,2192,2193,2194,2195,2196,2197,2198,2199,2200,2201,2202,2203,2204,2205,2206,2207,2208,2209,2210,2211,2212,2213,2214,2215,2216,2217,2218,2219,2220,2221,2222,2223,2224,2225,2226,2227,2228,2229,2230,2231,2232,2233,2234,2235,2236,2237,2238,2239,2240,2241,2242,2243,2244,2245,2246,2247,2248,2249,2250,2251,2252,2253,2254,2255,2256,2257,2258,2259,2260,2261,2262,2263,2264,2265,2266,2267,2268,2269,2270,2271,2272,2273,2274,2275,2276,2277,2278,2279,2280,2281,2282,2283,2284,2285,2286,2287,2288,2289,2290,2291,2292,2293,2294,2295,2296,2297,2298,2299,2300,2301,2302,2303,2304,2305,2306,2307,2308,2309,2310,2311,2312,2313,2314,2315,2316,2317,2318,2319,2320,2321,2322,2323,2324,2325,2326,2327,2328,2329,2330,2331,2332,2333,2334,2335,2336,2337,2338,2339,2340,2341,2342,2343,2344,2345,2346,2347,2348,2349,2350,2351,2352,2353,2354,2355,2356,2357,2358,2359,2360,2361,2362,2363,2364,2365,2366,2367,2368,2369,2370,2371,2372,2373,2374,2375,2376,2377,2378,2379,2380,2381,2382,2383,2384,2385,2386,2387,2388,2389,2390,2391,2392,2393,2394,2395,2396,2397,2398,2399,2400,2401,2402,2403,2404,2405,2406,2407,2408,2409,2410,2411,2412,2413,2414,2415,2416,2417,2418,2419,2420,2421,2422,2423,2424,2425,2426,2427,2428,2429,2430,2431,2432,2433,2434,2435,2436,2437,2438,2439,2440,2441,2442,2443,2444,2445,2446,2447,2448,2449,2450,2451,2452,2453,2454,2455,2456,2457,2458,2459,2460,2461,2462,2463,2464,2465,2466,2467,2468,2469,2470,2471,2472,2473,2474,2475,2476,2477,2478,2479,2480,2481,2482,2483,2484,2485,2486,2487,2488,2489,2490,2491,2492,2493,2494,2495,2496,2497,2498,2499,2500,2501,2502,2503,2504,2505,2506,2507,2508,2509,2510,2511,2512,2513,2514,2515,2516,2517,2518,2519,2520,2521,2522,2523,2524,2525,2526,2527,2528,2529,2530,2531,2532,2533,2534,2535,2536,2537,2538,2539,2540,2541,2542,2543,2544,2545,2546,2547,2548,2549,2550,2551,2552,2553,2554,2555,2556,2557,2558,2559,2560,2561,2562,2563,2564,2565,2566,2567,2568,2569,2570,2571,2572,2573,2574,2575,2576,2577,2578,2579,2580,2581,2582,2583,2584,2585,2586,2587,2588,2589,2590,2591,2592,2593,2594,2595,2596,2597,2598,2599,2600,2601,2602,2603,2604,2605,2606,2607,2608,2609,2610,2611,2612,2613,2614,2615,2616,2617,2618,2619,2620,2621,2622,2623,2624,2625,2626,2627,2628,2629,2630,2631,2632,2633,2634,2635,2636,2637,2638,2639,2640,2641,2642,2643,2644,2645,2646,2647,2648,2649,2650,2651,2652,2653,2654,2655,2656,2657,2658,2659,2660,2661,2662,2663,2664,2665,2666,2667,2668,2669,2670,2671,2672,2673,2674,2675,2676,2677,2678,2679,2680,2681,2682,2683,2684,2685,2686,2687,2688,2689,2690,2691,2692,2693,2694,2695,2696,2697,2698,2699,2700,2701,2702,2703,2704,2705,2706,2707,2708,2709,2710,2711,2712,2713,2714,2715,2716,2717,2718,2719,2720,2721,2722,2723,2724,2725,2726,2727,2728,2729,2730,2731,2732,2733,2734,2735,2736,2737,2738,2739,2740,2741,2742,2743,2744,2745,2746,2747,2748,2749,2750,2751,2752,2753,2754,2755,2756,2757,2758,2759,2760,2761,2762,2763,2764,2765,2766,2767,2768,2769,2770,2771,2772,2773,2774,2775,2776,2777,2778,2779,2780,2781,2782,2783,2784,2785,2786,2787,2788,2789,2790,2791,2792,2793,2794,2795,2796,2797,2798,2799,2800,2801,2802,2803,2804,2805,2806,2807,2808,2809,2810,2811,2812,2813,2814,2815,2816,2817,2818,2819,2820,2821,2822,2823,2824,2825,2826,2827,2828,2829,2830,2831,2832,2833,2834,2835,2836,2837,2838,2839,2840,2841,2842,2843,2844,2845,2846,2847,2848,2849,2850,2851,2852,2853,2854,2855,2856,2857,2858,2859,2860,2861,2862,2863,2864,2865,2866,2867,2868,2869,2870,2871,2872,2873,2874,2875,2876,2877,2878,2879,2880,2881,2882,2883,2884,2885,2886,2887,2888,2889,2890,2891,2892,2893,2894,2895,2896,2897,2898,2899,2900,2901,2902,2903,2904,2905,2906,2907,2908,2909,2910,2911,2912,2913,2914,2915,2916,2917,2918,2919,2920,2921,2922,2923,2924,2925,2926,2927,2928,2929,2930,2931,2932,2933,2934,2935,2936,2937,2938,2939,2940,2941,2942,2943,2944,2945,2946,2947,2948,2949,2950,2951,2952,2953,2954,2955,2956,2957,2958,2959,2960,2961,2962,2963,2964,2965,2966,2967,2968,2969,2970,2971,2972,2973,2974,2975,2976,2977,2978,2979,2980,2981,2982,2983,2984,2985,2986,2987,2988,2989,2990,2991,2992,2993,2994,2995,2996,2997,2998,2999,3000,3001,3002,3003,3004,3005,3006,3007,3008,3009,3010,3011,3012,3013,3014,3015,3016,3017,3018,3019,3020,3021,3022,3023,3024,3025,3026,3027,3028,3029,3030,3031,3032,3033,3034,3035,3036,3037,3038,3039,3040,3041,3042,3043,3044,3045,3046,3047,3048,3049,3050,3051,3052,3053,3054,3055,3056,3057,3058,3059,3060,3061,3062,3063,3064,3065,3066,3067,3068,3069,3070,3071,3072,3073,3074,3075,3076,3077,3078,3079,3080,3081,3082,3083,3084,3085,3086,3087,3088,3089,3090,3091,3092,3093,3094,3095,3096,3097,3098,3099,3100,3101,3102,3103,3104,3105,3106,3107,3108,3109,3110,3111,3112,3113,3114,3115,3116,3117,3118,3119,3120,3121,3122,3123,3124,3125,3126,3127,3128,3129,3130,3131,3132,3133,3134,3135,3136,3137,3138,3139,3140,3141,3142,3143,3144,3145,3146,3147,3148,3149,3150,3151,3152,3153,3154,3155,3156,3157,3158,3159,3160,3161,3162,3163,3164,3165,3166,3167,3168,3169,3170,3171,3172,3173,3174,3175,3176,3177,3178,3179,3180,3181,3182,3183,3184,3185,3186,3187,3188,3189,3190,3191,3192,3193,3194,3195,3196,3197,3198,3199,3200,3201,3202,3203,3204,3205,3206,3207,3208,3209,3210,3211,3212,3213,3214,3215,3216,3217,3218,3219,3220,3221,3222,3223,3224,3225,3226,3227,3228,3229,3230,3231,3232,3233,3234,3235,3236,3237,3238,3239,3240,3241,3242,3243,3244,3245,3246,3247,3248,3249,3250,3251,3252,3253,3254,3255,3256,3257,3258,3259,3260,3261,3262,3263,3264,3265,3266,3267,3268,3269,3270,3271,3272,3273,3274,3275,3276,3277,3278,3279,3280,3281,3282,3283,3284,3285,3286,3287,3288,3289,3290,3291,3292,3293,3294,3295,3296,3297,3298,3299,3300,3301,3302,3303,3304,3305,3306,3307,3308,3309,3310,3311,3312,3313,3314,3315,3316,3317,3318,3319,3320,3321,3322,3323,3324,3325,3326,3327,3328,3329,3330,3331,3332,3333,3334,3335,3336,3337,3338,3339,3340,3341,3342,3343,3344,3345,3346,3347,3348,3349,3350,3351,3352,3353,3354,3355,3356,3357,3358,3359,3360,3361,3362,3363,3364,3365,3366,3367,3368,3369,3370,3371,3372,3373,3374,3375,3376,3377,3378,3379,3380,3381,3382,3383,3384,3385,3386,3387,3388,3389,3390,3391,3392,3393,3394,3395,3396,3397,3398,3399,3400,3401,3402,3403,3404,3405,3406,3407,3408,3409,3410,3411,3412,3413,3414,3415,3416,3417,3418,3419,3420,3421,3422,3423,3424,3425,3426,3427,3428,3429,3430,3431,3432,3433,3434,3435,3436,3437,3438,3439,3440,3441,3442,3443,3444,3445,3446,3447,3448,3449,3450,3451,3452,3453,3454,3455,3456,3457,3458,3459,3460,3461,3462,3463,3464,3465,3466,3467,3468,3469,3470,3471,3472,3473,3474,3475,3476,3477,3478,3479,3480,3481,3482,3483,3484,3485,3486,3487,3488,3489,3490,3491,3492,3493,3494,3495,3496,3497,3498,3499,3500,3501,3502,3503,3504,3505,3506,3507,3508,3509,3510,3511,3512,3513,3514,3515,3516,3517,3518,3519,3520,3521,3522,3523,3524,3525,3526,3527,3528,3529,3530,3531,3532,3533,3534,3535,3536,3537,3538,3539,3540,3541,3542,3543,3544,3545,3546,3547,3548,3549,3550,3551,3552,3553,3554,3555,3556,3557,3558,3559,3560,3561,3562,3563,3564,3565,3566,3567,3568,3569,3570,3571,3572,3573,3574,3575,3576,3577,3578,3579,3580,3581,3582,3583,3584,3585,3586,3587,3588,3589,3590,3591,3592,3593,3594,3595,3596,3597,3598,3599,3600,3601,3602,3603,3604,3605,3606,3607,3608,3609,3610,3611,3612,3613,3614,3615,3616,3617,3618,3619,3620,3621,3622,3623,3624,3625,3626,3627,3628,3629,3630,3631,3632,3633,3634,3635,3636,3637,3638,3639,3640,3641,3642,3643,3644,3645,3646,3647,3648,3649,3650,3651,3652,3653,3654,3655,3656,3657,3658,3659,3660,3661,3662,3663,3664,3665,3666,3667,3668,3669,3670,3671,3672,3673,3674,3675,3676,3677,3678,3679,3680,3681,3682,3683,3684,3685,3686,3687,3688,3689,3690,3691,3692,3693,3694,3695,3696,3697,3698,3699,3700,3701,3702,3703,3704,3705,3706,3707,3708,3709,3710,3711,3712,3713,3714,3715,3716,3717,3718,3719,3720,3721,3722,3723,3724,3725,3726,3727,3728,3729,3730,3731,3732,3733,3734,3735,3736,3737,3738,3739,3740,3741,3742,3743,3744,3745,3746,3747,3748,3749,3750,3751,3752,3753,3754,3755,3756,3757,3758,3759,3760,3761,3762,3763,3764,3765,3766,3767,3768,3769,3770,3771,3772,3773,3774,3775,3776,3777,3778,3779,3780,3781,3782,3783,3784,3785,3786,3787,3788,3789,3790,3791,3792,3793,3794,3795,3796,3797,3798,3799,3800,3801,3802,3803,3804,3805,3806,3807,3808,3809,3810,3811,3812,3813,3814,3815,3816,3817,3818,3819,3820,3821,3822,3823,3824,3825,3826,3827,3828,3829,3830,3831,3832,3833,3834,3835,3836,3837,3838,3839,3840,3841,3842,3843,3844,3845,3846,3847,3848,3849,3850,3851,3852,3853,3854,3855,3856,3857,3858,3859,3860,3861,3862,3863,3864,3865,3866,3867,3868,3869,3870,3871,3872,3873,3874,3875,3876,3877,3878,3879,3880,3881,3882,3883,3884,3885,3886,3887,3888,3889,3890,3891,3892,3893,3894,3895,3896,3897,3898,3899,3900,3901,3902,3903,3904,3905,3906,3907,3908,3909,3910,3911,3912,3913,3914,3915,3916,3917,3918,3919,3920,3921,3922,3923,3924,3925,3926,3927,3928,3929,3930,3931,3932,3933,3934,3935,3936,3937,3938,3939,3940,3941,3942,3943,3944,3945,3946,3947,3948,3949,3950,3951,3952,3953,3954,3955,3956,3957,3958,3959,3960,3961,3962,3963,3964,3965,3966,3967,3968,3969,3970,3971,3972,3973,3974,3975,3976,3977,3978,3979,3980,3981,3982,3983,3984,3985,3986,3987,3988,3989,3990,3991,3992,3993,3994,3995,3996,3997,3998,3999,4000,4001,4002,4003,4004,4005,4006,4007,4008,4009,4010,4011,4012,4013,4014,4015,4016,4017,4018,4019,4020,4021,4022,4023,4024,4025,4026,4027,4028,4029,4030,4031,4032,4033,4034,4035,4036,4037,4038,4039,4040,4041,4042,4043,4044,4045,4046,4047,4048,4049,4050,4051,4052,4053,4054,4055,4056,4057,4058,4059,4060,4061,4062,4063,4064,4065,4066,4067,4068,4069,4070,4071,4072,4073,4074,4075,4076,4077,4078,4079,4080,4081,4082,4083,4084,4085,4086,4087,4088,4089,4090,4091,4092,4093,4094,4095,4096,4097,4098,4099,4100,4101,4102,4103,4104,4105,4106,4107,4108,4109,4110,4111,4112,4113,4114,4115,4116,4117,4118,4119,4120,4121,4122,4123,4124,4125,4126,4127,4128,4129,4130,4131,4132,4133,4134,4135,4136,4137,4138,4139,4140,4141,4142,4143,4144,4145,4146,4147,4148,4149,4150,4151,4152,4153,4154,4155,4156,4157,4158,4159,4160,4161,4162,4163,4164,4165,4166,4167,4168,4169,4170,4171,4172,4173,4174,4175,4176,4177,4178,4179,4180,4181,4182,4183,4184,4185,4186,4187,4188,4189,4190,4191,4192,4193,4194,4195,4196,4197,4198,4199,4200,4201,4202,4203,4204,4205,4206,4207,4208,4209,4210,4211,4212,4213,4214,4215,4216,4217,4218,4219,4220,4221,4222,4223,4224,4225,4226,4227,4228,4229,4230,4231,4232,4233,4234,4235,4236,4237,4238,4239,4240,4241,4242,4243,4244,4245,4246,4247,4248,4249,4250,4251,4252,4253,4254,4255,4256,4257,4258,4259,4260,4261,4262,4263,4264,4265,4266,4267,4268,4269,4270,4271,4272,4273,4274,4275,4276,4277,4278,4279,4280,4281,4282,4283,4284,4285,4286,4287,4288,4289,4290,4291,4292,4293,4294,4295,4296,4297,4298,4299,4300,4301,4302,4303,4304,4305,4306,4307,4308,4309,4310,4311,4312,4313,4314,4315,4316,4317,4318,4319,4320,4321,4322,4323,4324,4325,4326,4327,4328,4329,4330,4331,4332,4333,4334,4335,4336,4337,4338,4339,4340,4341,4342,4343,4344,4345,4346,4347,4348,4349,4350,4351,4352,4353,4354,4355,4356,4357,4358,4359,4360,4361,4362,4363,4364,4365,4366,4367,4368,4369,4370,4371,4372,4373,4374,4375,4376,4377,4378,4379,4380,4381,4382,4383,4384,4385,4386,4387,4388,4389,4390,4391,4392,4393,4394,4395,4396,4397,4398,4399,4400,4401,4402,4403,4404,4405,4406,4407,4408,4409,4410,4411,4412,4413,4414,4415,4416,4417,4418,4419,4420,4421,4422,4423,4424,4425,4426,4427,4428,4429,4430,4431,4432,4433,4434,4435,4436,4437,4438,4439,4440,4441,4442,4443,4444,4445,4446,4447,4448,4449,4450,4451,4452,4453,4454,4455,4456,4457,4458,4459,4460,4461,4462,4463,4464,4465,4466,4467,4468,4469,4470,4471,4472,4473,4474,4475,4476,4477,4478,4479,4480,4481,4482,4483,4484,4485,4486,4487,4488,4489,4490,4491,4492,4493,4494,4495,4496,4497,4498,4499,4500,4501,4502,4503,4504,4505,4506,4507,4508,4509,4510,4511,4512,4513,4514,4515,4516,4517,4518,4519,4520,4521,4522,4523,4524,4525,4526,4527,4528,4529,4530,4531,4532,4533,4534,4535,4536,4537,4538,4539,4540,4541,4542,4543,4544,4545,4546,4547,4548,4549,4550,4551,4552,4553,4554,4555,4556,4557,4558,4559,4560,4561,4562,4563,4564,4565,4566,4567,4568,4569,4570,4571,4572,4573,4574,4575,4576,4577,4578,4579,4580,4581,4582,4583,4584,4585,4586,4587,4588,4589,4590,4591,4592,4593,4594,4595,4596,4597,4598,4599,4600,4601,4602,4603,4604,4605,4606,4607,4608,4609,4610,4611,4612,4613,4614,4615,4616,4617,4618,4619,4620,4621,4622,4623,4624,4625,4626,4627,4628,4629,4630,4631,4632,4633,4634,4635,4636,4637,4638,4639,4640,4641,4642,4643,4644,4645,4646,4647,4648,4649,4650,4651,4652,4653,4654,4655,4656,4657,4658,4659,4660,4661,4662,4663,4664,4665,4666,4667,4668,4669,4670,4671,4672,4673,4674,4675,4676,4677,4678,4679,4680,4681,4682,4683,4684,4685,4686,4687,4688,4689,4690,4691,4692,4693,4694,4695,4696,4697,4698,4699,4700,4701,4702,4703,4704,4705,4706,4707,4708,4709,4710,4711,4712,4713,4714,4715,4716,4717,4718,4719,4720,4721,4722,4723,4724,4725,4726,4727,4728,4729,4730,4731,4732,4733,4734,4735,4736,4737,4738,4739,4740,4741,4742,4743,4744,4745,4746,4747,4748,4749,4750,4751,4752,4753,4754,4755,4756,4757,4758,4759,4760,4761,4762,4763,4764,4765,4766,4767,4768,4769,4770,4771,4772,4773,4774,4775,4776,4777,4778,4779,4780,4781,4782,4783,4784,4785,4786,4787,4788,4789,4790,4791,4792,4793,4794,4795,4796,4797,4798,4799,4800,4801,4802,4803,4804,4805,4806,4807,4808,4809,4810,4811,4812,4813,4814,4815,4816,4817,4818,4819,4820,4821,4822,4823,4824,4825,4826,4827,4828,4829,4830,4831,4832,4833,4834,4835,4836,4837,4838,4839,4840,4841,4842,4843,4844,4845,4846,4847,4848,4849,4850,4851,4852,4853,4854,4855,4856,4857,4858,4859,4860,4861,4862,4863,4864,4865,4866,4867,4868,4869,4870,4871,4872,4873,4874,4875,4876,4877,4878,4879,4880,4881,4882,4883,4884,4885,4886,4887,4888,4889,4890,4891,4892,4893,4894,4895,4896,4897,4898,4899,4900,4901,4902,4903,4904,4905,4906,4907,4908,4909,4910,4911,4912,4913,4914,4915,4916,4917,4918,4919,4920,4921,4922,4923,4924,4925,4926,4927,4928,4929,4930,4931,4932,4933,4934,4935,4936,4937,4938,4939,4940,4941,4942,4943,4944,4945,4946,4947,4948,4949,4950,4951,4952,4953,4954,4955,4956,4957,4958,4959,4960,4961,4962,4963,4964,4965,4966,4967,4968,4969,4970,4971,4972,4973,4974,4975,4976,4977,4978,4979,4980,4981,4982,4983,4984,4985,4986,4987,4988,4989,4990,4991,4992,4993,4994,4995,4996,4997,4998,4999],\"words\":[\"</s>\",\"in\",\"for\",\"that\",\"is\",\"on\",\"##\",\"The\",\"with\",\"said\",\"was\",\"the\",\"at\",\"not\",\"as\",\"it\",\"be\",\"from\",\"by\",\"are\",\"I\",\"have\",\"he\",\"will\",\"has\",\"####\",\"his\",\"an\",\"this\",\"or\",\"their\",\"who\",\"they\",\"but\",\"$\",\"had\",\"year\",\"were\",\"we\",\"more\",\"###\",\"up\",\"been\",\"you\",\"its\",\"one\",\"about\",\"would\",\"which\",\"out\",\"can\",\"It\",\"all\",\"also\",\"two\",\"after\",\"first\",\"He\",\"do\",\"time\",\"than\",\"when\",\"We\",\"over\",\"last\",\"new\",\"other\",\"her\",\"people\",\"into\",\"In\",\"our\",\"there\",\"A\",\"she\",\"could\",\"just\",\"years\",\"some\",\"U.S.\",\"three\",\"million\",\"them\",\"what\",\"But\",\"so\",\"no\",\"like\",\"if\",\"only\",\"percent\",\"get\",\"did\",\"him\",\"game\",\"back\",\"because\",\"now\",\"#.#\",\"before\",\"company\",\"any\",\"team\",\"against\",\"off\",\"This\",\"most\",\"made\",\"through\",\"make\",\"second\",\"state\",\"well\",\"day\",\"season\",\"says\",\"week\",\"where\",\"while\",\"down\",\"being\",\"government\",\"your\",\"#-#\",\"home\",\"going\",\"my\",\"good\",\"They\",\"'re\",\"should\",\"many\",\"way\",\"those\",\"four\",\"during\",\"such\",\"may\",\"very\",\"how\",\"since\",\"work\",\"take\",\"including\",\"high\",\"then\",\"%\",\"next\",\"#,###\",\"By\",\"much\",\"still\",\"go\",\"think\",\"old\",\"even\",\"#.##\",\"world\",\"see\",\"say\",\"business\",\"five\",\"told\",\"under\",\"us\",\"1\",\"these\",\"If\",\"right\",\"And\",\"me\",\"between\",\"play\",\"help\",\"##,###\",\"market\",\"That\",\"know\",\"end\",\"AP\",\"long\",\"information\",\"points\",\"does\",\"both\",\"There\",\"part\",\"around\",\"police\",\"want\",\"'ve\",\"based\",\"For\",\"got\",\"third\",\"school\",\"left\",\"another\",\"country\",\"need\",\"2\",\"best\",\"win\",\"quarter\",\"use\",\"today\",\"##.#\",\"same\",\"public\",\"run\",\"Friday\",\"set\",\"month\",\"top\",\"billion\",\"Tuesday\",\"come\",\"Monday\",\"She\",\"city\",\"place\",\"night\",\"six\",\"each\",\"Thursday\",\"###,###\",\"Wednesday\",\"here\",\"You\",\"group\",\"really\",\"found\",\"As\",\"used\",\"3\",\"lot\",\"'m\",\"money\",\"put\",\"games\",\"support\",\"program\",\"half\",\"report\",\"family\",\"months\",\"number\",\"officials\",\"am\",\"former\",\"own\",\"man\",\"Saturday\",\"too\",\"better\",\"days\",\"came\",\"lead\",\"life\",\"American\",\"##-##\",\"show\",\"past\",\"took\",\"added\",\"expected\",\"called\",\"great\",\"State\",\"services\",\"children\",\"hit\",\"area\",\"system\",\"every\",\"pm\",\"big\",\"service\",\"few\",\"per\",\"members\",\"Sunday\",\"early\",\"point\",\"start\",\"companies\",\"little\",\"&\",\"case\",\"ago\",\"local\",\"according\",\"never\",\"5\",\"without\",\"sales\",\"until\",\"went\",\"players\",\"##th\",\"New_York\",\"won\",\"financial\",\"news\",\"4\",\"When\",\"share\",\"several\",\"free\",\"away\",\"##.##\",\"already\",\"On\",\"industry\",\"'ll\",\"call\",\"With\",\"students\",\"line\",\"available\",\"County\",\"making\",\"held\",\"final\",\"#:##\",\"power\",\"plan\",\"might\",\"least\",\"look\",\"forward\",\"give\",\"At\",\"again\",\"later\",\"full\",\"must\",\"things\",\"major\",\"community\",\"announced\",\"open\",\"record\",\"reported\",\"court\",\"working\",\"able\",\"something\",\"president\",\"meeting\",\"keep\",\"March\",\"future\",\"far\",\"deal\",\"City\",\"May\",\"development\",\"University\",\"find\",\"times\",\"After\",\"office\",\"led\",\"among\",\"June\",\"increase\",\"China\",\"John\",\"whether\",\"cost\",\"security\",\"job\",\"less\",\"head\",\"seven\",\"growth\",\"lost\",\"pay\",\"looking\",\"provide\",\"6\",\"To\",\"plans\",\"products\",\"car\",\"recent\",\"hard\",\"always\",\"include\",\"women\",\"across\",\"tax\",\"water\",\"April\",\"continue\",\"important\",\"different\",\"close\",\"7\",\"One\",\"late\",\"decision\",\"current\",\"law\",\"within\",\"along\",\"played\",\"move\",\"United_States\",\"enough\",\"become\",\"side\",\"national\",\"Inc.\",\"results\",\"level\",\"loss\",\"economic\",\"coach\",\"near\",\"getting\",\"price\",\"Department\",\"event\",\"fourth\",\"change\",\"All\",\"small\",\"board\",\"National\",\"So\",\"goal\",\"taken\",\"field\",\"prices\",\"weeks\",\"men\",\"asked\",\"eight\",\"data\",\"shot\",\"New\",\"started\",\"July\",\"director\",\"President\",\"party\",\"federal\",\"done\",\"political\",\"minutes\",\"taking\",\"Company\",\"technology\",\"project\",\"center\",\"leading\",\"issue\",\"though\",\"having\",\"period\",\"likely\",\"scored\",\"8\",\"strong\",\"series\",\"military\",\"seen\",\"trying\",\"What\",\"coming\",\"process\",\"building\",\"behind\",\"performance\",\"management\",\"Iraq\",\"saying\",\"earlier\",\"believe\",\"oil\",\"given\",\"Police\",\"customers\",\"due\",\"following\",\"term\",\"others\",\"statement\",\"international\",\"economy\",\"health\",\"thing\",\"Obama\",\"return\",\"killed\",\"Washington\",\"further\",\"However\",\"doing\",\"face\",\"low\",\"higher\",\"site\",\"once\",\"yet\",\"hours\",\"America\",\"control\",\"received\",\"rate\",\"career\",\"Bush\",\"teams\",\"known\",\"offer\",\"race\",\"ever\",\"experience\",\"playing\",\"name\",\"possible\",\"countries\",\"Mr.\",\"average\",\"together\",\"using\",\"9\",\"cut\",\"While\",\"total\",\"round\",\"young\",\"nearly\",\"shares\",\"member\",\"campaign\",\"media\",\"needs\",\"why\",\"house\",\"issues\",\"costs\",\"fire\",\"##-#\",\"victory\",\"player\",\"began\",\"sure\",\"story\",\"per_cent\",\"North\",\"His\",\"staff\",\"order\",\"war\",\"large\",\"interest\",\"stock\",\"food\",\"research\",\"key\",\"India\",\"South\",\"morning\",\"conference\",\"senior\",\"global\",\"Center\",\"death\",\"person\",\"thought\",\"gave\",\"feel\",\"energy\",\"history\",\"recently\",\"largest\",\"No.\",\"general\",\"official\",\"released\",\"wanted\",\"meet\",\"short\",\"outside\",\"running\",\"live\",\"ball\",\"online\",\"real\",\"position\",\"fact\",\"fell\",\"nine\",\"December\",\"front\",\"action\",\"defense\",\"problem\",\"problems\",\"Mr\",\"nation\",\"needed\",\"special\",\"January\",\"almost\",\"chance\",\"'d\",\"result\",\"West\",\"September\",\"reports\",\"leader\",\"investment\",\"yesterday\",\"Some\",\"leaders\",\"ahead\",\"production\",\"comes\",\"No\",\"runs\",\"match\",\"role\",\"kind\",\"try\",\"ended\",\"risk\",\"areas\",\"election\",\"workers\",\"visit\",\"bring\",\"road\",\"music\",\"study\",\"makes\",\"often\",\"release\",\"woman\",\"vote\",\"care\",\"town\",\"clear\",\"comment\",\"budget\",\"potential\",\"single\",\"markets\",\"policy\",\"capital\",\"saw\",\"access\",\"weekend\",\"operations\",\"whose\",\"net\",\"House\",\"hand\",\"increased\",\"charges\",\"winning\",\"trade\",\"These\",\"income\",\"value\",\"involved\",\"Bank\",\"November\",\"bill\",\"compared\",\"anything\",\"manager\",\"Texas\",\"property\",\"stop\",\"annual\",\"private\",\"contract\",\"died\",\"Now\",\"hope\",\"product\",\"fans\",\"lower\",\"demand\",\"News\",\"David\",\"club\",\"comments\",\"film\",\"yards\",\"quality\",\"currently\",\"events\",\"addition\",\"couple\",\"schools\",\"attack\",\"region\",\"latest\",\"opportunity\",\"worked\",\"course\",\"bad\",\"fall\",\"Group\",\"October\",\"jobs\",\"list\",\"let\",\"however\",\"chief\",\"summer\",\"programs\",\"According\",\"revenue\",\"Our\",\"rose\",\"previous\",\"TV\",\"football\",\"biggest\",\"employees\",\"changes\",\"residents\",\"means\",\"agreement\",\"includes\",\"post\",\"Canada\",\"probably\",\"related\",\"training\",\"allowed\",\"class\",\"bit\",\"video\",\"Michael\",\"An\",\"sent\",\"education\",\"states\",\"straight\",\"love\",\"beat\",\"hold\",\"turn\",\"finished\",\"network\",\"Smith\",\"buy\",\"foreign\",\"especially\",\"groups\",\"wants\",\"title\",\"included\",\"turned\",\"bank\",\"Florida\",\"efforts\",\"personal\",\"businesses\",\"August\",\"California\",\"situation\",\"district\",\"allow\",\"helped\",\"body\",\"nothing\",\"soon\",\"safety\",\"officer\",\"cents\",\"Europe\",\"St.\",\"additional\",\"spokesman\",\"February\",\"wife\",\"showed\",\"leave\",\"investors\",\"parents\",\"medical\",\"spending\",\"non\",\"London\",\"Council\",\"matter\",\"spent\",\"child\",\"World\",\"effort\",\"opening\",\"either\",\"range\",\"question\",\"European\",\"goals\",\"administration\",\"friends\",\"himself\",\"shows\",\"difficult\",\"kids\",\"paid\",\"create\",\"cash\",\"age\",\"league\",\"form\",\"impact\",\"drive\",\"someone\",\"became\",\"stay\",\"fight\",\"significant\",\"firm\",\"Senate\",\"hospital\",\"charged\",\"operating\",\"main\",\"book\",\"success\",\"son\",\"trading\",\"###-####\",\"focus\",\"room\",\"continued\",\"Congress\",\"everything\",\"Park\",\"agency\",\"brought\",\"talk\",\"break\",\"air\",\"software\",\"decided\",\"Do\",\"ready\",\"arrested\",\"track\",\"provides\",\"mother\",\"base\",\"trial\",\"phone\",\"My\",\"build\",\"conditions\",\"rest\",\"Johnson\",\"terms\",\"expect\",\"England\",\"Israel\",\"despite\",\"closed\",\"starting\",\"provided\",\"pressure\",\"lives\",\"step\",\"remain\",\"similar\",\"charge\",\"date\",\"whole\",\"land\",\"growing\",\"James\",\"Internet\",\"projects\",\"British\",\"cases\",\"ground\",\"legal\",\"International\",\"agreed\",\"tell\",\"test\",\"everyone\",\"pretty\",\"authorities\",\"Two\",\"above\",\"moved\",\"profit\",\"throughout\",\"inside\",\"ability\",\"overall\",\"pass\",\"officers\",\"rather\",\"Australia\",\"actually\",\"county\",\"amount\",\"scheduled\",\"themselves\",\"organization\",\"giving\",\"credit\",\"father\",\"drug\",\"investigation\",\"families\",\"Republican\",\"funds\",\"patients\",\"takes\",\"systems\",\"Japan\",\"complete\",\"sold\",\"practice\",\"calls\",\"\\u2022\",\"UK\",\"force\",\"student\",\"idea\",\"reached\",\"reason\",\"levels\",\"space\",\"competition\",\"forces\",\"sector\",\"Last\",\"tried\",\"common\",\"homes\",\"stage\",\"department\",\"named\",\"earnings\",\"offers\",\"star\",\"certain\",\"double\",\"longer\",\"followed\",\"cause\",\"Association\",\"signed\",\"committee\",\"hour\",\"college\",\"Pakistan\",\"users\",\"Iran\",\"sign\",\"living\",\"failed\",\"reach\",\"quickly\",\"receive\",\"debt\",\"sale\",\"Board\",\"Americans\",\"Road\",\"Brown\",\"insurance\",\"##:##\",\"anyone\",\"tournament\",\"More\",\"gas\",\"talks\",\"serious\",\"required\",\"sell\",\"construction\",\"evidence\",\"remains\",\"black\",\"below\",\"improve\",\"crisis\",\"address\",\"questions\",\"easy\",\"begin\",\"view\",\"School\",\"heard\",\"executive\",\"raised\",\"Paul\",\"store\",\"gets\",\"filed\",\"huge\",\"moving\",\"seems\",\"met\",\"####s\",\"thousands\",\"CEO\",\"solutions\",\"score\",\"content\",\"treatment\",\"offered\",\"built\",\"hits\",\"present\",\"Chicago\",\"attacks\",\"although\",\"social\",\"afternoon\",\"vehicle\",\"read\",\"example\",\"rise\",\"....\",\"minute\",\"banks\",\"council\",\"troops\",\"rates\",\"tough\",\"Chinese\",\"Even\",\"works\",\"fifth\",\"knew\",\"felt\",\"Street\",\"website\",\"fund\",\"issued\",\"immediately\",\"opened\",\"goes\",\"proposed\",\"happy\",\"guys\",\"response\",\"numbers\",\"benefits\",\"happened\",\"###.#\",\"light\",\"positive\",\"chairman\",\"claims\",\"People\",\"details\",\"Williams\",\"East\",\"accused\",\"equipment\",\"dropped\",\"dollars\",\"various\",\"worth\",\"judge\",\"considered\",\"commercial\",\"activities\",\"funding\",\"dollar\",\"plant\",\"mobile\",\"television\",\"rules\",\"rights\",\"review\",\"quite\",\"regular\",\"Dr.\",\"served\",\"kept\",\"marketing\",\"created\",\"heart\",\"wrote\",\"prison\",\"instead\",\"concerns\",\"offering\",\"returned\",\"benefit\",\"designed\",\"approved\",\"foot\",\"search\",\"miles\",\"planned\",\"Health\",\"Government\",\"driving\",\"Indian\",\"entire\",\"First\",\"providing\",\"host\",\"ask\",\"design\",\"hearing\",\"save\",\"looked\",\"Central\",\"travel\",\"_\",\"successful\",\"beginning\",\"movie\",\"adding\",\"forced\",\"toward\",\"ensure\",\"passed\",\"unit\",\"happen\",\"mean\",\"Associated_Press\",\"Many\",\"shooting\",\"gone\",\"winner\",\"hopes\",\"understand\",\"planning\",\"trip\",\"raise\",\"owner\",\"popular\",\"completed\",\"ways\",\"attention\",\"feet\",\"assets\",\"traffic\",\"Mike\",\"Since\",\"environment\",\"Both\",\"interview\",\"consumers\",\"Democrats\",\"Jones\",\"Not\",\"hands\",\"contact\",\"cars\",\"Although\",\"dead\",\"features\",\"challenge\",\"Canadian\",\"particularly\",\"basis\",\"violence\",\"stand\",\"consumer\",\"sense\",\"attorney\",\"driver\",\"highest\",\"\\u00a3\",\"posted\",\"finish\",\"limited\",\"source\",\"Hall\",\"serve\",\"Sept.\",\"spot\",\"Then\",\"advantage\",\"scoring\",\"words\",\"applications\",\"Russia\",\"reduce\",\"How\",\"white\",\"appeared\",\"itself\",\"fuel\",\"During\",\"Afghanistan\",\"simply\",\"fiscal\",\"Jackson\",\"plays\",\"account\",\"follow\",\"statements\",\"organizations\",\"pick\",\"continues\",\"session\",\"nuclear\",\"French\",\"seconds\",\"daughter\",\"co\",\"sports\",\"Most\",\"caused\",\"injury\",\"United\",\"College\",\"effect\",\"selling\",\"middle\",\"cuts\",\"drop\",\"facility\",\"true\",\"target\",\"consider\",\"watch\",\"noted\",\"Other\",\"resources\",\"opportunities\",\"strategy\",\"learn\",\"re\",\"Mexico\",\"message\",\"injured\",\"parties\",\"seeking\",\"missed\",\"wrong\",\"letter\",\"From\",\"looks\",\"individual\",\"approach\",\"damage\",\"else\",\"speed\",\"France\",\"mind\",\"Los_Angeles\",\"bid\",\"subject\",\"ran\",\"send\",\"Mark\",\"existing\",\"fun\",\"innings\",\"press\",\"voters\",\"championship\",\"leaving\",\"earned\",\"effective\",\"poor\",\"friend\",\"customer\",\"solution\",\"corporate\",\"independent\",\"leadership\",\"human\",\"Democratic\",\"shots\",\"believes\",\"computer\",\"s\",\"items\",\"confidence\",\"add\",\"health_care\",\"award\",\"parts\",\"cover\",\"missing\",\"fast\",\"Iraqi\",\"incident\",\"husband\",\"responsible\",\"looking_statements\",\"losses\",\"estimated\",\"approximately\",\"guy\",\"purchase\",\"Australian\",\"helping\",\"finally\",\"spend\",\"scene\",\"opposition\",\"develop\",\"Ohio\",\"certainly\",\"extra\",\"UN\",\"talking\",\"spring\",\"emergency\",\"station\",\"check\",\"Chris\",\"soldiers\",\"vehicles\",\"launch\",\"Business\",\"critical\",\"professional\",\"described\",\"choice\",\"moment\",\"size\",\"changed\",\"holding\",\"door\",\"declined\",\"R\",\"launched\",\"condition\",\"lose\",\"joined\",\"gives\",\"developed\",\"Also\",\"protect\",\"girls\",\"District\",\"operation\",\"necessary\",\"taxes\",\"sites\",\"Day\",\"beyond\",\"African\",\"daily\",\"yard\",\"calling\",\"Those\",\"options\",\"stocks\",\"newspaper\",\"peace\",\"proposal\",\"Jan.\",\"previously\",\"Microsoft\",\"owned\",\"regional\",\"Thomas\",\"hear\",\"housing\",\"owners\",\"exchange\",\"majority\",\"starts\",\"victims\",\"Times\",\"model\",\"struck\",\"tour\",\"basketball\",\"###-###-####\",\"published\",\"twice\",\"candidates\",\"Commission\",\"population\",\"evening\",\"lack\",\"north\",\"fighting\",\"reporters\",\"concerned\",\"south\",\"fine\",\"weather\",\"figures\",\"floor\",\"relationship\",\"activity\",\"remaining\",\"believed\",\"Scott\",\"confirmed\",\"anti\",\"placed\",\"caught\",\"crime\",\"crowd\",\"appear\",\"version\",\"Western\",\"Boston\",\"girl\",\"join\",\"discuss\",\"church\",\"original\",\"Michigan\",\"aid\",\"expectations\",\"White_House\",\"Bill\",\"clients\",\"located\",\"Germany\",\"Israeli\",\"gold\",\"killing\",\"specific\",\"Robert\",\"act\",\"High_School\",\"partner\",\"losing\",\"claim\",\"records\",\"Office\",\"offense\",\"Dec.\",\"Just\",\"alone\",\"Corp.\",\"facilities\",\"Another\",\"division\",\"Oct.\",\"Nov.\",\"retail\",\"worst\",\"legislation\",\"page\",\"Lee\",\"measures\",\"brand\",\"expects\",\"art\",\"Services\",\"standards\",\"application\",\"central\",\"sixth\",\"safe\",\"style\",\"elections\",\"*\",\"primary\",\"greater\",\"progress\",\"managed\",\"supply\",\"gain\",\"prior\",\"Committee\",\"wins\",\"recovery\",\"e_mail\",\"upon\",\"plus\",\"type\",\"paper\",\"attempt\",\"High\",\"focused\",\"claimed\",\"survey\",\"injuries\",\"street\",\"stores\",\"block\",\"analysts\",\"Big\",\"allows\",\"hundreds\",\"avoid\",\"Conference\",\"governor\",\"figure\",\"band\",\"option\",\"lines\",\"sources\",\"domestic\",\"NFL\",\"knows\",\"seem\",\"Open\",\"Republicans\",\"Britain\",\"feature\",\"walk\",\"broke\",\"factors\",\"battle\",\"developing\",\"threat\",\"worldwide\",\"Feb.\",\"written\",\"Christmas\",\"committed\",\"green\",\"agencies\",\"improved\",\"traditional\",\"###.##\",\"fair\",\"border\",\"About\",\"Reuters\",\"concern\",\"mark\",\"allowing\",\"capacity\",\"putting\",\"appears\",\"stories\",\"grow\",\"unique\",\"favorite\",\"nice\",\"Today\",\"vice_president\",\"measure\",\"debate\",\"direct\",\"stopped\",\"index\",\"drugs\",\"tied\",\"rising\",\"risks\",\"League\",\"Despite\",\"mid\",\"arrived\",\"communities\",\"Meanwhile\",\"increasing\",\"presented\",\"Her\",\"boy\",\"Court\",\"standard\",\"prevent\",\"mission\",\"deep\",\"Chief\",\"word\",\"identified\",\"pulled\",\"inning\",\"difference\",\"pair\",\"suffered\",\"perfect\",\"advanced\",\"prepared\",\"fully\",\"blood\",\"signs\",\"showing\",\"English\",\"####-##\",\"interested\",\"material\",\"article\",\"experts\",\"bottom\",\"answer\",\"D\",\"George\",\"usually\",\"wait\",\"spoke\",\"Davis\",\"laws\",\"request\",\"units\",\"loan\",\"directly\",\"union\",\"particular\",\"baseball\",\"loans\",\"pre\",\"born\",\"affected\",\"waiting\",\"simple\",\"Martin\",\"picked\",\"Arizona\",\"faces\",\"Russian\",\"names\",\"EU\",\"generation\",\"responsibility\",\"combined\",\"audience\",\"hurt\",\"seemed\",\"red\",\"revenues\",\"candidate\",\"Under\",\"ranked\",\"cities\",\"places\",\"ruling\",\"Green\",\"speak\",\"strike\",\"documents\",\"Year\",\"sometimes\",\"King\",\"seasons\",\"via\",\"carry\",\"boys\",\"facing\",\"learned\",\"hotel\",\"produced\",\"Google\",\"seeing\",\"seat\",\"produce\",\"millions\",\"box\",\"decisions\",\"coverage\",\"voice\",\"rule\",\"respect\",\"World_Cup\",\"cancer\",\"shown\",\"fired\",\"decades\",\"reasons\",\"tonight\",\"Aug.\",\"commitment\",\"alleged\",\"competitive\",\"rebounds\",\"Miller\",\"individuals\",\"thinking\",\"established\",\"books\",\"approval\",\"deliver\",\"remained\",\"guard\",\"Service\",\"God\",\"infrastructure\",\"appeal\",\"digital\",\"Web\",\"ordered\",\"citizens\",\"Research\",\"speech\",\"push\",\"highly\",\"Army\",\"decline\",\"holiday\",\"self\",\"Three\",\"accident\",\"radio\",\"require\",\"murder\",\"wide\",\"policies\",\"park\",\"Their\",\"champion\",\"platform\",\"pleased\",\"heavy\",\"eventually\",\"crash\",\"minister\",\"hot\",\"serving\",\"asking\",\"Detroit\",\"keeping\",\"provider\",\"partners\",\"remember\",\"seek\",\"manufacturing\",\"teachers\",\"towards\",\"buying\",\"warned\",\"Steve\",\"initial\",\"pounds\",\"brother\",\"panel\",\"becoming\",\"entered\",\"sides\",\"victim\",\"setting\",\"Co.\",\"environmental\",\"bus\",\"Is\",\"Asia\",\"note\",\"IT\",\"carried\",\"consecutive\",\"older\",\"criminal\",\"Richard\",\"bought\",\"Georgia\",\"Institute\",\"announcement\",\"Union\",\"Rs\",\"Division\",\"decade\",\"clean\",\"stated\",\"penalty\",\"boost\",\"attend\",\"separate\",\"enjoy\",\"Web_site\",\"table\",\"analysis\",\"Japanese\",\"German\",\"skills\",\"jail\",\"Valley\",\"protection\",\"analyst\",\"mostly\",\"paying\",\"draw\",\"Director\",\"Taylor\",\"perhaps\",\"reading\",\"cross\",\"commission\",\"drivers\",\"offices\",\"presence\",\"meetings\",\"votes\",\"strength\",\"Of\",\"delivery\",\"location\",\"positions\",\"regarding\",\"hoping\",\"Ryan\",\"offensive\",\"spread\",\"White\",\"whom\",\"deficit\",\"powerful\",\"Club\",\"continuing\",\"natural\",\"revealed\",\"feeling\",\"Jim\",\"grew\",\"watching\",\"suggested\",\"slow\",\"challenges\",\"Writer\",\"larger\",\"quick\",\"definitely\",\"flight\",\"university\",\"junior\",\"inflation\",\"ones\",\"Apple\",\"honor\",\"active\",\"voted\",\"Community\",\"solid\",\"Clinton\",\"Act\",\"determine\",\"reduced\",\"fees\",\"multiple\",\"decide\",\"advertising\",\"language\",\"expressed\",\"steps\",\"easily\",\"bringing\",\"physical\",\"throw\",\"forecast\",\"schedule\",\"denied\",\"finding\",\"ban\",\"Game\",\"agree\",\"section\",\"admitted\",\"actions\",\"normal\",\"devices\",\"Because\",\"squad\",\"creating\",\"walked\",\"chief_executive\",\"streets\",\"clearly\",\"complex\",\"lawyer\",\"elected\",\"increases\",\"Energy\",\"estimates\",\"excited\",\"helps\",\"relief\",\"determined\",\"maybe\",\"suspect\",\"Hill\",\"sound\",\"piece\",\"campus\",\"southern\",\"degree\",\"smaller\",\"status\",\"headed\",\"#-##\",\"healthy\",\"massive\",\"testing\",\"distribution\",\"Why\",\"completely\",\"onto\",\"hitting\",\"closing\",\"lawmakers\",\"fresh\",\"winter\",\"Tom\",\"contest\",\"outstanding\",\"exactly\",\"percentage\",\"Joe\",\"contributed\",\"movement\",\"storm\",\"seventh\",\"fear\",\"weight\",\"Minnesota\",\"McCain\",\"C\",\"secure\",\"conducted\",\"acquisition\",\"Over\",\"maintain\",\"rally\",\"knowledge\",\"recorded\",\"assistant\",\"doctors\",\"proud\",\"advice\",\"Secretary\",\"finance\",\"sex\",\"Peter\",\"WASHINGTON\",\"refused\",\"Miami\",\"agent\",\"draft\",\"pitch\",\"Justice\",\"supporters\",\"General\",\"user\",\"presidential\",\"tie\",\"Africa\",\"New_Zealand\",\"sort\",\"Houston\",\"disease\",\"tomorrow\",\"core\",\"willing\",\"patient\",\"Hospital\",\"considering\",\"firms\",\"Still\",\"technical\",\"trouble\",\"Its\",\"picture\",\"extremely\",\"confident\",\"count\",\"visitors\",\"extended\",\"Once\",\"reality\",\"expand\",\"Christian\",\"expansion\",\"lived\",\"Lake\",\"Palestinian\",\"downtown\",\"doubt\",\"nature\",\"listed\",\"leads\",\"opinion\",\"River\",\"row\",\"fellow\",\"corner\",\"author\",\"Development\",\"screen\",\"shareholders\",\"faced\",\"Illinois\",\"plants\",\"arrest\",\"society\",\"character\",\"labor\",\"gains\",\"science\",\"teacher\",\"web\",\"restaurant\",\"learning\",\"recession\",\"raising\",\"failure\",\"airport\",\"intelligence\",\"selected\",\"zone\",\"buildings\",\"industrial\",\"contracts\",\"advance\",\"fit\",\"assists\",\"tickets\",\"youth\",\"variety\",\"matches\",\"defensive\",\"package\",\"requirements\",\"connection\",\"writing\",\"ongoing\",\"Iowa\",\"explained\",\"accept\",\"lawsuit\",\"Wilson\",\"profile\",\"ending\",\"expenses\",\"employee\",\"resident\",\"myself\",\"stuff\",\"Supreme_Court\",\"Toronto\",\"standing\",\"Corporation\",\"covered\",\"Young\",\"politics\",\"aware\",\"Minister\",\"device\",\"display\",\"culture\",\"train\",\"driven\",\"closer\",\"real_estate\",\"illegal\",\"meant\",\"technologies\",\"card\",\"dog\",\"in.\",\"enter\",\"communications\",\"weapons\",\"gained\",\"supported\",\"eye\",\"NEW_YORK\",\"associated\",\"chances\",\"Instead\",\"centers\",\"dangerous\",\"views\",\"worse\",\"studies\",\"discussion\",\"Colorado\",\"Atlanta\",\"San_Francisco\",\"attended\",\"pace\",\"Virginia\",\"album\",\"entertainment\",\"camp\",\"Before\",\"trust\",\"strategic\",\"falling\",\"favor\",\"retired\",\"removed\",\"army\",\"balance\",\"plane\",\"quarterback\",\"Baghdad\",\"banking\",\"baby\",\"truck\",\"Ford\",\"sought\",\"write\",\"partnership\",\"nearby\",\"image\",\"stars\",\"volume\",\"effects\",\"Cup\",\"tests\",\"South_Africa\",\"Chairman\",\"interests\",\"occurred\",\"Philadelphia\",\"bond\",\"introduced\",\"sport\",\"spokeswoman\",\"behavior\",\"defeat\",\"treated\",\"direction\",\"Only\",\"bigger\",\"crew\",\"allegedly\",\"uses\",\"Avenue\",\"mortgage\",\"miss\",\"Among\",\"catch\",\"appearance\",\"welcome\",\"experienced\",\"ideas\",\"negotiations\",\"Foundation\",\"Asian\",\"authority\",\"slightly\",\"urged\",\"hole\",\"reform\",\"achieve\",\"Education\",\"Brian\",\"assistance\",\"delivered\",\"compete\",\"link\",\"choose\",\"possibility\",\"ruled\",\"interesting\",\"seats\",\"threw\",\"drove\",\"Anderson\",\"B\",\"immediate\",\"investments\",\"payments\",\"northern\",\"relations\",\"license\",\"discovered\",\"prove\",\"registered\",\"perform\",\"governments\",\"debut\",\"researchers\",\"accounts\",\"Well\",\"limit\",\"eyes\",\"deaths\",\"Here\",\"neighborhood\",\"handed\",\"veteran\",\"alternative\",\"basic\",\"manage\",\"tools\",\"negative\",\"Each\",\"secretary\",\"kill\",\"receiving\",\"Jr.\",\"collection\",\"coaches\",\"returns\",\"Black\",\"surgery\",\"gun\",\"replace\",\"fan\",\"institutions\",\"personnel\",\"golf\",\"happens\",\"surprise\",\"changing\",\"kick\",\"ceremony\",\"west\",\"resolution\",\"broken\",\"plenty\",\"nor\",\"easier\",\"passing\",\"pain\",\"Kevin\",\"bar\",\"Bob\",\"Federal\",\"everybody\",\"talent\",\"represent\",\"Former\",\"unless\",\"pull\",\"cast\",\"deals\",\"grade\",\"song\",\"filled\",\"wish\",\"begins\",\"affect\",\"nations\",\"fee\",\"Post\",\"largely\",\"New_Jersey\",\"apparently\",\"email\",\"NBA\",\"Management\",\"portfolio\",\"recognized\",\"speaking\",\"shut\",\"sit\",\"profits\",\"reporting\",\"holds\",\"represents\",\"dozen\",\"practices\",\"declared\",\"rich\",\"thanks\",\"#####\",\"supplies\",\"convicted\",\"native\",\"Dallas\",\"improvement\",\"amid\",\"classes\",\"participate\",\"accepted\",\"jump\",\"village\",\"aircraft\",\"poll\",\"abuse\",\"carrying\",\"east\",\"pro\",\"client\",\"equity\",\"sitting\",\"generally\",\"notes\",\"unable\",\"ice\",\"houses\",\"stake\",\"Carolina\",\"rain\",\"savings\",\"warning\",\"brings\",\"USA\",\"discussed\",\"Fed\",\"adults\",\"GM\",\"file\",\"Spain\",\"responded\",\"parking\",\"Let\",\"returning\",\"Sun\",\"orders\",\"telling\",\"encourage\",\"Like\",\"identify\",\"William\",\"pushed\",\"joint\",\"conduct\",\"suspended\",\"wind\",\"Tigers\",\"edge\",\"roads\",\"female\",\"sentence\",\"Wall_Street\",\"Oklahoma\",\"backed\",\"promote\",\"eighth\",\"influence\",\"organized\",\"Seattle\",\"cold\",\"bills\",\"payment\",\"properties\",\"scale\",\"Your\",\"rival\",\"religious\",\"retirement\",\"possibly\",\"turning\",\"civil\",\"moves\",\"currency\",\"Team\",\"aimed\",\"Italy\",\"breaking\",\"alcohol\",\"awards\",\"talked\",\"grant\",\"wall\",\"allegations\",\"requires\",\"Indiana\",\"mayor\",\"races\",\"struggling\",\"whatever\",\"readers\",\"appointed\",\"Matt\",\"voting\",\"Will\",\"Home\",\"significantly\",\"heat\",\"Information\",\"structure\",\"transfer\",\"supporting\",\"trend\",\"increasingly\",\"networks\",\"otherwise\",\"conflict\",\"cutting\",\"modern\",\"wearing\",\"executives\",\"entry\",\"Beijing\",\"playoff\",\"wireless\",\"T\",\"Fire\",\"Every\",\"M\",\"Centre\",\"meaning\",\"leg\",\"intended\",\"appropriate\",\"excellent\",\"North_Carolina\",\"involving\",\"stood\",\"heads\",\"rescue\",\"walking\",\"locations\",\"materials\",\"sending\",\"bodies\",\"snow\",\"fish\",\"feels\",\"Mayor\",\"deputy\",\"mile\",\"Olympic\",\"passengers\",\"except\",\"Fox\",\"Senior\",\"storage\",\"shop\",\"Lewis\",\"Middle_East\",\"supposed\",\"numerous\",\"songs\",\"awarded\",\"traded\",\"sister\",\"possession\",\"realize\",\"understanding\",\"ten\",\"justice\",\"rating\",\"expensive\",\"jumped\",\"improving\",\"fraud\",\"animals\",\"Howard\",\"Technology\",\"dedicated\",\"tight\",\"lawyers\",\"sets\",\"linked\",\"providers\",\"investigators\",\"stands\",\"terrorism\",\"arm\",\"freedom\",\"notice\",\"sentenced\",\"coalition\",\"touch\",\"Women\",\"exercise\",\"Global\",\"settlement\",\"disaster\",\"assist\",\"electronic\",\"playoffs\",\"combination\",\"apply\",\"shared\",\"doctor\",\"US\",\"comprehensive\",\"Andrew\",\"earn\",\"fill\",\"rock\",\"Fund\",\"giant\",\"please\",\"suit\",\"Life\",\"owns\",\"electricity\",\"exciting\",\"winners\",\"beating\",\"protest\",\"Though\",\"rejected\",\"ticket\",\"Church\",\"Charles\",\"farmers\",\"ride\",\"maker\",\"heading\",\"Yet\",\"regulations\",\"Kelly\",\"models\",\"ends\",\"Sports\",\"innovative\",\"Earlier\",\"upcoming\",\"writer\",\"performed\",\"films\",\"arms\",\"married\",\"prosecutors\",\"agents\",\"##s\",\"handle\",\"Market\",\"duty\",\"captain\",\"securities\",\"employment\",\"surprised\",\"Securities\",\"worried\",\"ninth\",\"Muslim\",\"Sen.\",\"pointed\",\"magazine\",\"threatened\",\"headquarters\",\"Italian\",\"participants\",\"visiting\",\"Oregon\",\"press_release\",\"fly\",\"Wisconsin\",\"Jordan\",\"primarily\",\"respectively\",\"Spanish\",\"New_Orleans\",\"transportation\",\"younger\",\"Media\",\"jury\",\"respond\",\"rural\",\"Ministry\",\"acting\",\"Party\",\"factor\",\"update\",\"island\",\"Afghan\",\"flat\",\"remove\",\"photo\",\"Mary\",\"selection\",\"scheme\",\"Facebook\",\"impressive\",\"becomes\",\"P\",\"indicated\",\"Yankees\",\"Jeff\",\"Financial\",\"photos\",\"professionals\",\"fewer\",\"shopping\",\"split\",\"San_Diego\",\"Public\",\"initiative\",\"Moore\",\"stretch\",\"monthly\",\"stronger\",\"bench\",\"racing\",\"Tennessee\",\"none\",\"values\",\"farm\",\"producer\",\"reduction\",\"famous\",\"Pennsylvania\",\"Brazil\",\"broadcast\",\"promised\",\"operate\",\"Allen\",\"acquired\",\"goods\",\"Paris\",\"relatively\",\"passes\",\"purpose\",\"movies\",\"directors\",\"Southern\",\"SEC\",\"clubs\",\"conservative\",\"Delhi\",\"Call\",\"comfortable\",\"replaced\",\"Clark\",\"matters\",\"hospitals\",\"Top\",\"Hollywood\",\"Democrat\",\"opponents\",\"targets\",\"suffering\",\"festival\",\"Network\",\"compensation\",\"guilty\",\"efficient\",\"managers\",\"truly\",\"faith\",\"scores\",\"busy\",\"extend\",\"faster\",\"yourself\",\"weak\",\"rare\",\"initially\",\"importance\",\"waste\",\"suspected\",\"margin\",\"watched\",\"meters\",\"Ireland\",\"franchise\",\"fashion\",\"pound\",\"professor\",\"Alabama\",\"multi\",\"grown\",\"Officials\",\"estimate\",\"document\",\"register\",\"cable\",\"obviously\",\"familiar\",\"scientists\",\"Cleveland\",\"artists\",\"invited\",\"#,###,###\",\"vs.\",\"crimes\",\"Gulf\",\"Hamas\",\"prepare\",\"volunteers\",\"cool\",\"financing\",\"images\",\"fixed\",\"hired\",\"enable\",\"camera\",\"Food\",\"memory\",\"historic\",\"dinner\",\"proved\",\"Arab\",\"sees\",\"telephone\",\"vision\",\"reportedly\",\"soccer\",\".###\",\"Irish\",\"ship\",\"path\",\"actor\",\"circumstances\",\"severe\",\"expert\",\"traveling\",\"engineering\",\"Manchester\",\"Four\",\"dance\",\"Taliban\",\"Jason\",\"Turkey\",\"Several\",\"overseas\",\"Thompson\",\"bridge\",\"lowest\",\"auto\",\"counts\",\"attempts\",\"reflect\",\"color\",\"Tim\",\"wounded\",\"secret\",\"visited\",\"greatest\",\"leaves\",\"types\",\"representatives\",\"worry\",\"internal\",\"Bay\",\"adds\",\"athletes\",\"Harris\",\"mix\",\"industries\",\"ministry\",\"signing\",\"Woods\",\"targeted\",\"tells\",\"Please\",\"serves\",\"interest_rates\",\"AP_Photo\",\"Local\",\"graduate\",\"quoted\",\"argued\",\"association\",\"lots\",\"announce\",\"shortly\",\"featured\",\"marriage\",\"contained\",\"Man\",\"priority\",\"terrorist\",\"Commerce\",\"Oil\",\"Pittsburgh\",\"unlikely\",\"causing\",\"directed\",\"code\",\"die\",\"category\",\"chosen\",\"shift\",\"Rangers\",\"Gaza\",\"maintenance\",\"apartment\",\"theater\",\"effectively\",\"Denver\",\"mine\",\"upset\",\"western\",\"nationwide\",\"GOP\",\"thinks\",\"Pacific\",\"euro\",\"Joseph\",\"Sales\",\"closely\",\"friendly\",\"channel\",\"brain\",\"custody\",\"barrel\",\"afford\",\"Who\",\"Yes\",\"dogs\",\"residential\",\"dream\",\"actual\",\"reaching\",\"transaction\",\"Kentucky\",\"finals\",\"#.###\",\"cooperation\",\"boat\",\"investigating\",\"communication\",\"freshman\",\"outlook\",\"deadline\",\"surface\",\"parent\",\"phase\",\"eat\",\"asset\",\"truth\",\"delay\",\"enjoyed\",\"shape\",\"anticipated\",\"representing\",\"purchased\",\"hoped\",\"Judge\",\"Rep.\",\"portion\",\"opposed\",\"Security\",\"enterprise\",\"animal\",\"controlled\",\"politicians\",\"Power\",\"North_Korea\",\"Dan\",\"cards\",\"suggest\",\"Family\",\"concert\",\"uncertainties\",\"Free\",\"granted\",\"beautiful\",\"recognize\",\"joining\",\"####-####\",\"flights\",\"absolutely\",\"Hamilton\",\"dealing\",\"cap\",\"turns\",\"Capital\",\"ties\",\"informed\",\"Jack\",\"#,###.##\",\"window\",\"'##\",\"Best\",\"pool\",\"Hong_Kong\",\"coaching\",\"titles\",\"blue\",\"amazing\",\"fears\",\"demands\",\"Missouri\",\"cited\",\"behalf\",\"Edwards\",\"bonds\",\"shoulder\",\"seriously\",\"districts\",\"aggressive\",\"alive\",\"Utah\",\"bomb\",\"suspects\",\"dark\",\"sea\",\"therefore\",\"overtime\",\"submitted\",\"agenda\",\"establish\",\"Kansas\",\"engine\",\"Program\",\"mainly\",\"NCAA\",\"maximum\",\"male\",\"pushing\",\"airline\",\"principal\",\"library\",\"pieces\",\"dispute\",\"corruption\",\"reserve\",\"Children\",\"sponsored\",\"militants\",\"reducing\",\"Massachusetts\",\"originally\",\"Championship\",\"sharing\",\"mixed\",\"complaint\",\"J.\",\"realized\",\"crucial\",\"province\",\"ultimately\",\"brands\",\"capabilities\",\"acknowledged\",\"distance\",\"struggle\",\"Or\",\"stations\",\"discussions\",\"judges\",\"Maybe\",\"extensive\",\"Award\",\"Giants\",\"manufacturers\",\"Jewish\",\"Egypt\",\"United_Nations\",\"achieved\",\"defeated\",\"assault\",\"worker\",\"criticism\",\"usual\",\"Patrick\",\"presentation\",\"improvements\",\"Of_course\",\"Anthony\",\"represented\",\"Such\",\"Shares\",\"Any\",\"findings\",\"counties\",\"stolen\",\"K\",\"expense\",\"Daniel\",\"Dr\",\"editor\",\"herself\",\"Drive\",\"complaints\",\"buyers\",\"A.\",\"mentioned\",\"stayed\",\"efficiency\",\"democracy\",\"knee\",\"connected\",\"Islamic\",\"Q\",\"terror\",\"operates\",\"law_enforcement\",\"prime_minister\",\"Series\",\"neighbors\",\"successfully\",\"permanent\",\"Tony\",\"parliament\",\"adult\",\"ages\",\"Eagles\",\"consistent\",\"proposals\",\"explain\",\"formed\",\"weekly\",\"supports\",\"coast\",\"broad\",\"iPhone\",\"relevant\",\"opener\",\"detailed\",\"Walker\",\"human_rights\",\"Iranian\",\"letters\",\"guess\",\"internet\",\"struggled\",\"entering\",\"widely\",\"recovered\",\"Law\",\"happening\",\"par\",\"protests\",\"II\",\"colleagues\",\"tool\",\"trees\",\"text\",\"capable\",\"Phoenix\",\"monitoring\",\"limits\",\"eligible\",\"#\",\"passenger\",\"expanded\",\"Ms.\",\"reputation\",\"brief\",\"motion\",\"St._Louis\",\"treat\",\"fought\",\"concluded\",\"gap\",\"unemployment\",\"restaurants\",\"ad\",\"surrounding\",\"stepped\",\"drew\",\"collected\",\"Gold\",\"#.####\",\"retailers\",\"preparing\",\"wear\",\"destroyed\",\"threats\",\"Chelsea\",\"Singapore\",\"invest\",\"Town\",\"concept\",\"recommended\",\"flying\",\"Kerry\",\"minimum\",\"flow\",\"resulted\",\"marked\",\"chain\",\"combat\",\"rookie\",\"Stephen\",\"noon\",\"performances\",\"Gary\",\"founded\",\"artist\",\"reporter\",\"celebrate\",\"featuring\",\"Air\",\"Star\",\"gathered\",\"potentially\",\"PC\",\"publicly\",\"Kennedy\",\"disappointed\",\"Agency\",\"pictures\",\"touchdowns\",\"fallen\",\"President_Barack_Obama\",\"depth\",\"auction\",\"wonderful\",\"criticized\",\"attacked\",\"essential\",\"damaged\",\"qualified\",\"banned\",\"suggests\",\"specifically\",\"sat\",\"Scotland\",\"Project\",\"loved\",\"dozens\",\"representative\",\"Authorities\",\"typically\",\"era\",\"Stewart\",\"singer\",\"thus\",\"creation\",\"teaching\",\"Sydney\",\"NHL\",\"acres\",\"challenging\",\"encouraged\",\"Las_Vegas\",\"Northern\",\"seniors\",\"quarters\",\"momentum\",\"Dave\",\"producing\",\"processing\",\"inches\",\"segment\",\"versus\",\"mining\",\"route\",\"expertise\",\"Five\",\"wing\",\"touchdown\",\"promise\",\"Wright\",\"healthcare\",\"Are\",\"yen\",\"integrated\",\"neither\",\"Robinson\",\"Academy\",\"puts\",\"Press\",\"foundation\",\"overnight\",\"armed\",\"ex\",\"outcome\",\"reaction\",\"producers\",\"follows\",\"fields\",\"stadium\",\"Be\",\"failing\",\"aside\",\"bed\",\"doors\",\"pilot\",\"E\",\"operators\",\"forms\",\"extension\",\"mass\",\"substantial\",\"obtained\",\"adopted\",\"reserves\",\"FBI\",\"carries\",\"NATO\",\"trained\",\"Dubai\",\"contain\",\"tackle\",\"temporary\",\"proven\",\"regulatory\",\"violent\",\"danger\",\"tree\",\"boss\",\"Frank\",\"Maryland\",\"apart\",\"gift\",\"musical\",\"warm\",\"creative\",\"Prime_Minister\",\"transport\",\"developers\",\"OK\",\"likes\",\"Henry\",\"Ben\",\"courts\",\"wake\",\"shoot\",\"lineup\",\"Report\",\"regulation\",\"kid\",\"task\",\"blog\",\"hosted\",\"Medical\",\"eastern\",\"South_Korea\",\"drawn\",\"Ave\",\"regime\",\"pending\",\"ourselves\",\"threatening\",\"mistake\",\"Through\",\"laid\",\"journalists\",\"cultural\",\"blame\",\"copy\",\"machine\",\"mail\",\"\\u00ae\",\"proper\",\"listen\",\"links\",\"Officer\",\"Columbia\",\"relationships\",\"natural_gas\",\"premium\",\"0\",\"assessment\",\"generated\",\"chose\",\"Campbell\",\"Second\",\"captured\",\"Can\",\"summit\",\"climate\",\"sophomore\",\"Connecticut\",\"keeps\",\"teammates\",\"dismissed\",\"Time\",\"generate\",\"hockey\",\"Vice_President\",\"vital\",\"E.\",\"territory\",\"Eastern\",\"elsewhere\",\"hair\",\"resulting\",\"Mississippi\",\"veterans\",\"recognition\",\"BP\",\"accounting\",\"polls\",\"holes\",\"initiatives\",\"amounts\",\"Treasury\",\"finishing\",\"See\",\"length\",\"birth\",\"rivals\",\"gay\",\"roughly\",\"performing\",\"futures\",\"Royal\",\"exports\",\"tested\",\"seed\",\"blow\",\"historical\",\"starter\",\"+\",\"guests\",\"river\",\"minor\",\"pop\",\"predicted\",\"roll\",\"acts\",\"recalled\",\"anybody\",\"strategies\",\"sharp\",\"horse\",\"Games\",\"prize\",\"valuable\",\"witness\",\"Regional\",\"drinking\",\"contribute\",\"Arkansas\",\"computers\",\"Louisiana\",\"guidelines\",\"funded\",\"delayed\",\"handling\",\"Austin\",\"Defense\",\"exclusive\",\"repeatedly\",\"academic\",\"Lebanon\",\"resource\",\"output\",\"Mitchell\",\"contributions\",\"background\",\"runner\",\"prospects\",\"filing\",\"questioned\",\"applied\",\"Test\",\"Manager\",\"ratings\",\"thank\",\"Eric\",\"Right\",\"characters\",\"wine\",\"saving\",\"lift\",\"civilians\",\"Bloomberg\",\"identity\",\"ownership\",\"obvious\",\"throwing\",\"settle\",\"tracks\",\"smart\",\"Stadium\",\"developments\",\"lunch\",\"Twitter\",\"Liverpool\",\"bail\",\"forget\",\"transition\",\"equal\",\"founder\",\"involvement\",\"gotten\",\"protesters\",\"Class\",\"ABC\",\"euros\",\"S.\",\"homer\",\"Music\",\"opponent\",\"Little\",\"competing\",\"submit\",\"projected\",\"cell\",\"monitor\",\"century\",\"sessions\",\"Parliament\",\"meets\",\"begun\",\"Navy\",\"metal\",\"critics\",\"forum\",\"honored\",\"ballot\",\"affairs\",\"desire\",\"RBI\",\"click\",\"expanding\",\"topic\",\"Following\",\"recommendations\",\"sectors\",\"Red\",\"causes\",\"Ontario\",\"ease\",\"marks\",\"consumption\",\"appointment\",\"officially\",\"argument\",\"newly\",\"Palestinians\",\"wonder\",\"`\",\"spirit\",\"Atlantic\",\"ring\",\"employers\",\"strongly\",\"registration\",\"gasoline\",\"Coach\",\"Total\",\"salary\",\"blocks\",\"classic\",\"Week\",\"educational\",\"feed\",\"managing\",\"cells\",\"stick\",\"exploration\",\"installed\",\"Gordon\",\"blamed\",\"insisted\",\"conversation\",\"trends\",\"elements\",\"guidance\",\"Baltimore\",\"charity\",\"emerged\",\"blocked\",\"replacement\",\"covering\",\"powers\",\"tourism\",\"enhance\",\"operator\",\"Roberts\",\"saved\",\"plate\",\"engaged\",\"expecting\",\"ranks\",\"donations\",\"mention\",\"immigration\",\"pension\",\"emerging\",\"moments\",\"testimony\",\"witnesses\",\"impossible\",\"LLC\",\"tries\",\"rounds\",\"exposure\",\"Trust\",\"celebration\",\"instance\",\"controversial\",\"Alex\",\"harder\",\"stress\",\"settled\",\"remarks\",\"articles\",\"false\",\"Get\",\"dominated\",\"Labor\",\"Pakistani\",\"Island\",\"Murray\",\"dramatic\",\"collapse\",\"attempted\",\"drama\",\"boards\",\"museum\",\"attract\",\"remote\",\"experiences\",\"Show\",\"chair\",\"Toyota\",\"anywhere\",\"messages\",\"developer\",\"Vancouver\",\"ads\",\"opens\",\"Journal\",\"confirm\",\"requested\",\"error\",\"Museum\",\"print\",\"pitcher\",\"contains\",\"Nelson\",\"decrease\",\"attending\",\"System\",\"integration\",\"thrown\",\"unusual\",\"stability\",\"Earth\",\"makers\",\"merger\",\"steel\",\"yield\",\"knocked\",\"square\",\"glass\",\"Lions\",\"Taiwan\",\"inspired\",\"flag\",\"Mumbai\",\"volunteer\",\"fishing\",\"activists\",\"Tokyo\",\"firefighters\",\"alongside\",\"aim\",\"guarantee\",\"clinical\",\"Good\",\"claiming\",\"staying\",\"Duke\",\"tremendous\",\"contribution\",\"terrorists\",\"wave\",\"electric\",\"restrictions\",\"recall\",\"implementation\",\"knowing\",\"skin\",\"utility\",\"CBS\",\"processes\",\"Highway\",\"halftime\",\"fix\",\"quarterly\",\"emotional\",\"maintained\",\"counter\",\"annually\",\"repair\",\"Craig\",\"Lady\",\"S_&\",\"obtain\",\"European_Union\",\"Indians\",\"abroad\",\"Mexican\",\"stable\",\"PM\",\"regions\",\"tradition\",\"totally\",\"opinions\",\"hosts\",\"citing\",\"Long\",\"pitched\",\"Larry\",\"necessarily\",\"beaten\",\"Adam\",\"reasonable\",\"drink\",\"poverty\",\"properly\",\"somebody\",\"canceled\",\"sounds\",\"sick\",\"saves\",\"Deputy\",\"Society\",\"Nick\",\"Carter\",\"lucky\",\"folks\",\"Nigeria\",\"Nevada\",\"defend\",\"Bell\",\"lights\",\"minority\",\"posting\",\"drilling\",\"differences\",\"Love\",\"regularly\",\"roster\",\"bankruptcy\",\"S\",\"participation\",\"Super_Bowl\",\"interim\",\"controls\",\"competitors\",\"stuck\",\"delivering\",\"viewers\",\"Catholic\",\"W.\",\"agreements\",\"subscribers\",\"Sometimes\",\"smoke\",\"War\",\"compliance\",\"manner\",\"trucks\",\"Back\",\"Wales\",\"yes\",\"Junior\",\"M.\",\"mistakes\",\"Gov.\",\"Baker\",\"formal\",\"investor\",\"Vietnam\",\"Oakland\",\"speculation\",\"Sam\",\"qualifying\",\"attorneys\",\"Next\",\"finds\",\"quiet\",\"cleared\",\"Everyone\",\"bag\",\"explosion\",\"taxpayers\",\"guide\",\"occur\",\"encouraging\",\"Net\",\"highway\",\"sleep\",\"recover\",\"interviews\",\"Rock\",\"Lincoln\",\"satellite\",\"entirely\",\"dry\",\"papers\",\"Where\",\"soldier\",\"covers\",\"exhibition\",\"Science\",\"blast\",\"capture\",\"FDA\",\"function\",\"availability\",\"Commissioner\",\"lending\",\"peak\",\"wild\",\"facts\",\"procedures\",\"lap\",\"awareness\",\"Up\",\"pursue\",\"edition\",\"studio\",\"correct\",\"inch\",\"Great\",\"Systems\",\"switch\",\"participating\",\"tend\",\"champions\",\"Kim\",\"Blue\",\"lay\",\"Trade\",\"purposes\",\"departments\",\"THE\",\"ranking\",\"addressed\",\"Olympics\",\"perspective\",\"Marshall\",\"Ltd.\",\"Moscow\",\"components\",\"Having\",\"seized\",\"clothing\",\"Kansas_City\",\"drawing\",\"resistance\",\"choices\",\"recording\",\"demanding\",\"urban\",\"pages\",\"Windows\",\"doubled\",\"suspension\",\"manufacturer\",\"innovation\",\"climbed\",\"Mobile\",\"Russell\",\"Adams\",\"Industry\",\"Cardinals\",\"port\",\"Panthers\",\"runners\",\"G\",\"brothers\",\"visits\",\"implement\",\"All_Star\",\"relatives\",\"al_Qaida\",\"atmosphere\",\"defined\",\"absence\",\"steady\",\"branch\",\"pitching\",\"NBC\",\"normally\",\"gathering\",\"signal\",\"administrative\",\"empty\",\"obligation\",\"Legislature\",\"commander\",\"prompted\",\"falls\",\"taught\",\"promotion\",\"Muslims\",\"incidents\",\"operational\",\"Water\",\"pricing\",\"silver\",\"subsidiary\",\"qualify\",\"Art\",\"escape\",\"wealth\",\"singles\",\"roof\",\"extent\",\"privacy\",\"Students\",\"spots\",\"tennis\",\"grants\",\"transactions\",\"Speaking\",\"scientific\",\"export\",\"Ray\",\"referring\",\"preliminary\",\"rooms\",\"sanctions\",\"degrees\",\"eating\",\"legislative\",\"Morgan\",\"resume\",\"involve\",\"resolve\",\"operated\",\"sexual\",\"prospect\",\"typical\",\"Bears\",\"membership\",\"Murphy\",\"hiring\",\"Rice\",\"consideration\",\"AT_&\",\"civilian\",\"fairly\",\"climate_change\",\"investigate\",\"violations\",\"pipeline\",\"seeks\",\"crore\",\"hire\",\"Investors\",\"Online\",\"Alaska\",\"###th\",\"theme\",\"stressed\",\"Exchange_Commission\",\"resort\",\"Tour\",\"walks\",\"roles\",\"rebound\",\"reference\",\"Analysts\",\"specialist\",\"timing\",\"Bureau\",\"imagine\",\"rapidly\",\"angry\",\"riding\",\"violation\",\"attitude\",\"guest\",\"select\",\"tech\",\"Cameron\",\"barrels\",\"sensitive\",\"hosting\",\"demanded\",\"Graham\",\"marijuana\",\"intent\",\"BBC\",\"@\",\"strengthen\",\"channels\",\"ministers\",\"newspapers\",\"referred\",\"Building\",\"testified\",\"column\",\"Ross\",\"Terry\",\"arrive\",\"Unfortunately\",\"rushed\",\"kilometers\",\"frame\",\"provision\",\"authorized\",\"fail\",\"completion\",\"traveled\",\"Daily\",\"heavily\",\"acquire\",\"striking\",\"virus\",\"DVD\",\"Index\",\"secured\",\"breaks\",\"Greg\",\"attractive\",\"Portland\",\"indeed\",\"approve\",\"survived\",\"intense\",\"somewhat\",\"aims\",\"crews\",\"protected\",\"checks\",\"distributed\",\"talented\",\"kicked\",\"permission\",\"Tech\",\"judgment\",\"IBM\",\"beer\",\"clothes\",\"Administration\",\"Maine\",\"coal\",\"Intel\",\"packed\",\"promoting\",\"flood\",\"approached\",\"Washington_DC\",\"towns\",\"disappointing\",\"Old\",\"collaboration\",\"hopefully\",\"streak\",\"Based\",\"balls\",\"pleaded_guilty\",\"sustained\",\"noticed\",\"permit\",\"beach\",\"Grant\",\"collect\",\"journey\",\"victories\",\"Greece\",\"statistics\",\"fantastic\",\"rail\",\"Take\",\"hundred\",\"pack\",\"broadband\",\"Air_Force\",\"cycle\",\"delays\",\"comedy\",\"thoughts\",\"hardware\",\"solar\",\"Finance\",\"bound\",\"Price\",\"proceeds\",\"Cincinnati\",\"suicide\",\"prisoners\",\"discovery\",\"dad\",\"searching\",\"longtime\",\"Pentagon\",\"premier\",\"command\",\"enables\",\"###-###\",\"ranging\",\"nobody\",\"actress\",\"aspects\",\"fled\",\"Melbourne\",\"Orange\",\"videos\",\"Federal_Reserve\",\"cricket\",\"Asked\",\"ratio\",\"birthday\",\"Radio\",\"restructuring\",\"episode\",\"Field\",\"Parker\",\"cameras\",\"persons\",\"championships\",\"answers\",\"promises\",\"unknown\",\"argue\",\"differ_materially\",\"Rose\",\"NYSE\",\"Evans\",\"surge\",\"focusing\",\"doubles\",\"Bruce\",\"donated\",\"ideal\",\"equivalent\",\"reliable\",\"sustainable\",\"factory\",\"Without\",\"scenes\",\"survive\",\"contacted\",\"mph\",\"residence\",\"trips\",\"hotels\",\"bat\",\"unclear\",\"gang\",\"grounds\",\"slipped\",\"carrier\",\"bases\",\"prosecutor\",\"categories\",\"liked\",\"accurate\",\"advised\",\"slowly\",\"Read\",\"abortion\",\"mom\",\"Mets\",\"tons\",\"Perhaps\",\"requests\",\"forcing\",\"frequently\",\"overcome\",\"inquiry\",\"situations\",\"apparent\",\"map\",\"universities\",\"bear\",\"Staff\",\"Whether\",\"stroke\",\"medicine\",\"drives\",\"reforms\",\"vendors\",\"defending\",\"teach\",\"medium\",\"prime\",\"Andy\",\"Governor\",\"basically\",\"exposed\",\"Hotel\",\"F\",\"Ms\",\"dialogue\",\"Indonesia\",\"stimulus\",\"Alliance\",\"probe\",\"Perry\",\"Ron\",\"methods\",\"shall\",\"landed\",\"stages\",\"credit_card\",\"luxury\",\"dates\",\"vulnerable\",\"preparation\",\"regulators\",\"indicate\",\"appearances\",\"theft\",\"appreciate\",\"complained\",\"Memorial\",\"Oh\",\"chemical\",\"relative\",\"Transportation\",\"consequences\",\"imposed\",\"rolled\",\"alert\",\"virtually\",\"provincial\",\"Sony\",\"forecasts\",\"Dean\",\"strikes\",\"athletic\",\"neck\",\"tourists\",\"cell_phone\",\"sad\",\"pct\",\"Arsenal\",\"prominent\",\"allies\",\"Josh\",\"writes\",\"alliance\",\"method\",\"meanwhile\",\"Simon\",\"Morris\",\"Beach\",\"crude\",\"suffer\",\"files\",\"quit\",\"Syria\",\"deployed\",\"Phillips\",\"shock\",\"Communications\",\"picking\",\"clock\",\"posts\",\"regard\",\"convention\",\"penalties\",\"backing\",\"rapid\",\"independence\",\"novel\",\"central_bank\",\"Korean\",\"scandal\",\"campaigns\",\"Assembly\",\"widespread\",\"species\",\"audio\",\"explains\",\"investing\",\"NASA\",\"Tickets\",\"welcomed\",\"detail\",\"unions\",\"moderate\",\"religion\",\"earthquake\",\"wedding\",\"grabbed\",\"Don\",\"Thailand\",\"Six\",\"restore\",\"plot\",\"Milwaukee\",\"lifted\",\"coffee\",\"Keep\",\"sun\",\"honest\",\"passion\",\"periods\",\"publication\",\"Saints\",\"swing\",\"Wood\",\"Calif.\",\"toll\",\"master\",\"useful\",\"eliminate\",\"answered\",\"congressional\",\"neighbor\",\"dropping\",\"weapon\",\"promising\",\"maintaining\",\"seeded\",\"arrival\",\"soft\",\"format\",\"honors\",\"trillion\",\"teen\",\"smoking\",\"Collins\",\"impressed\",\"consultant\",\"tiny\",\"temperatures\",\"adviser\",\"windows\",\"Cook\",\"shelter\",\"deadly\",\"label\",\"noting\",\"foul\",\"Form\",\"commissioner\",\"Sri_Lanka\",\"Rogers\",\"sheriff\",\"Stanford\",\"succeed\",\"nomination\",\"upgrade\",\"Montreal\",\"rely\",\"string\",\"trail\",\"aged\",\"traders\",\"triple\",\"personally\",\"implemented\",\"preferred\",\"winds\",\"lies\",\"Victoria\",\"Marketing\",\"exist\",\"Besides\",\"Labour\",\"Dutch\",\"Attorney_General\",\"proof\",\"tank\",\"etc.\",\"zero\",\"secondary\",\"Special\",\"consistently\",\"delighted\",\"Rodriguez\",\"defender\",\"suddenly\",\"Wayne\",\"Go\",\"garden\",\"e\",\"routine\",\"anonymity\",\"Barack_Obama\",\"postseason\",\"introduce\",\"venue\",\"teens\",\"free_throws\",\"affordable\",\"Others\",\"Franklin\",\"meat\",\"resigned\",\"Way\",\"attendance\",\"suppliers\",\"concrete\",\"#.##_ERA\",\"repeat\",\"anyway\",\"solve\",\"convinced\",\"McDonald\",\"St\",\"Charlotte\",\"legs\",\"uncertainty\",\"Given\",\"cheap\",\"programming\",\"Theatre\",\"neighboring\",\"Solutions\",\"helicopter\",\"demonstrated\",\"bright\",\"comeback\",\"offset\",\"forth\",\"harm\",\"##st\",\"protecting\",\"detained\",\"NY\",\"meter\",\"earning\",\"glad\",\"duties\",\"#:##.##\",\"rated\",\"upper\",\"dividend\",\"senator\",\"Jerry\",\"Haiti\",\"World_Series\",\"pulling\",\"organizers\",\"exit\",\"Ward\",\"shoes\",\"entitled\",\"viewed\",\"clash\",\"Madison\",\"courses\",\"Area\",\"Manhattan\",\"bike\",\"Insurance\",\"afraid\",\"billions\",\"\\u20ac\",\"hardly\",\"download\",\"Stock_Exchange\",\"petition\",\"bonus\",\"lying\",\"elderly\",\"reflects\",\"hate\",\"errors\",\"kinds\",\"Look\",\"Arts\",\"Chamber\",\"Medicare\",\"Lane\",\"Senator\",\"belief\",\"Hawaii\",\"Cooper\",\"assigned\",\"crazy\",\"arts\",\"Turner\",\"retain\",\"longest\",\"crashed\",\"TM\",\"guards\",\"Members\",\"assume\",\"mouth\",\"sufficient\",\"barely\",\"Libya\",\"sharply\",\"Yahoo\",\"connect\",\"offerings\",\"funeral\",\"express\",\"kitchen\",\"Wal_Mart\",\"purchases\",\"Youth\",\"averaged\",\"gaming\",\"disclosed\",\"kills\",\"investigations\",\"constitution\",\"flexibility\",\"Red_Sox\",\"Iraqis\",\"Boeing\",\"burning\",\"extreme\",\"updated\",\"Festival\",\"unprecedented\",\"Reid\",\"Al\",\"dealers\",\"acquisitions\",\"backup\",\"Lakers\",\"faculty\",\"prosecution\",\"tired\",\"Hughes\",\"ups\",\"Blair\",\"Zimbabwe\",\"optimistic\",\"pledged\",\"temperature\",\"Lawrence\",\"NASCAR\",\"Bulldogs\",\"funny\",\"Alan\",\"handful\",\"targeting\",\"broader\",\"rape\",\"intention\",\"super\",\"L.\",\"regardless\",\"nights\",\"abandoned\",\"Matthew\",\"birds\",\"sponsor\",\"Cuba\",\"airlines\",\"Buffalo\",\"tips\",\"conviction\",\"celebrated\",\"Revenue\",\"taste\",\"relating\",\"citizen\",\"locked\",\"Coast\",\"Sarah\",\"paint\",\"load\",\"essentially\",\"symptoms\",\"horses\",\"#-#-#\",\"Steven\",\"reviewed\",\"guns\",\"Douglas\",\"handled\",\"Jets\",\"emissions\",\"hurricane\",\"walls\",\"counsel\",\"consensus\",\"DNA\",\"reveal\",\"everywhere\",\"occasion\",\"carefully\",\"understood\",\"inventory\",\"engage\",\"lease\",\"incredible\",\"constant\",\"sons\",\"compromise\",\"Authority\",\"Christopher\",\"Mountain\",\"shops\",\"Turkish\",\"worries\",\"raises\",\"Out\",\"Cabinet\",\"Obviously\",\"opposite\",\"fitness\",\"database\",\"Brandon\",\"diverse\",\"stops\",\"battery\",\"parks\",\"Medical_Center\",\"rush\",\"Constitution\",\"burden\",\"controversy\",\"departure\",\"luck\",\"rebels\",\"repeated\",\"involves\",\"firing\",\"troubled\",\"Korea\",\"benchmark\",\"backs\",\"anymore\",\"Tyler\",\"institution\",\"keen\",\"fighters\",\"rallied\",\"contrast\",\"Village\",\"invested\",\"Video\",\"assembly\",\"Ottawa\",\"LA\",\"intends\",\"Swiss\",\"Bryant\",\"plastic\",\"New_Hampshire\",\"converted\",\"depending\",\"Later\",\"ordinary\",\"West_Virginia\",\"credits\",\"flooding\",\"Indianapolis\",\"actors\",\"productivity\",\"democratic\",\"Sean\",\"transferred\",\"tip\",\"interactive\",\"County_Sheriff\",\"casino\",\"basket\",\"chip\",\"bet\",\"writers\",\"execution\",\"requirement\",\"automatically\",\"Jan\",\"Fame\",\"plea\",\"Richmond\",\"i\",\"Justin\",\"machines\",\"please_visit\",\"modest\",\"Malaysia\",\"procedure\",\"Mrs.\",\"calm\",\"updates\",\"unveiled\",\"Golden\",\"Warren\",\"Jefferson\",\"swept\",\"loose\",\"latter\",\"nervous\",\"agriculture\",\"valued\",\"pregnant\",\"Awards\",\"conclusion\",\"homeowners\",\"household\",\"prefer\",\"enforcement\",\"Lord\",\"Prosecutors\",\"requiring\",\"definition\",\"demonstrate\",\"parade\",\"Anyone\",\"'##s\",\"hero\",\"Sgt\",\"economists\",\"rushing\",\"explore\",\"decreased\",\"patrol\",\"surprising\",\"diabetes\",\"component\",\"anger\",\"incentives\",\"Channel\",\"Live\",\"Nebraska\",\"Premier_League\",\"Republic\",\"carriers\",\"Sullivan\",\"commented\",\"teammate\",\"legacy\",\"Argentina\",\"fleet\",\"fat\",\"presents\",\"vacation\",\"introduction\",\"discount\",\"Ken\",\"provisions\",\"GDP\",\"praised\",\"Note\",\"lane\",\"Saudi_Arabia\",\"sells\",\"enhanced\",\"insurgents\",\"copies\",\"pride\",\"odds\",\"employed\",\"challenged\",\"singing\",\"equally\",\"collapsed\",\"thousand\",\"Football\",\"landing\",\"techniques\",\"III\",\"BC\",\"Butler\",\"item\",\"objective\",\"Stars\",\"robbery\",\"planes\",\"supplier\",\"comparison\",\"Rick\",\"Until\",\"Investment\",\"Township\",\"gifts\",\"engineers\",\"San_Jose\",\"burned\",\"Attorney\",\"arrests\",\"Patriots\",\"feedback\",\"bags\",\"revised\",\"versions\",\"agricultural\",\"Plan\",\"extraordinary\",\"sight\",\"Neither\",\"Baseball\",\"recruiting\",\"attacking\",\"Chrysler\",\"describe\",\"retailer\",\"reflected\",\"conspiracy\",\"Point\",\"Islam\",\"Richardson\",\"Library\",\"calendar\",\"Finally\",\"creates\",\"Broadway\",\"minds\",\"Wildcats\",\"Have\",\"midnight\",\"Elizabeth\",\"functions\",\"Scottish\",\"virtual\",\"delivers\",\"resignation\",\"Tehran\",\"badly\",\"indication\",\"commit\",\"Orlando\",\"pitches\",\"gallon\",\"ultimate\",\"beauty\",\"spoken\",\"invasion\",\"fires\",\"concerning\",\"waters\",\"authors\",\"tea\",\"turnovers\",\"advisory\",\"Memphis\",\"buried\",\"rent\",\"HIV\",\"Rob\",\"Jonathan\",\"probation\",\"excess\",\"girlfriend\",\"striker\",\"colleges\",\"Did\",\"priced\",\"fastest\",\"robust\",\"tracking\",\"participated\",\"lie\",\"dating\",\"Super\",\"Shanghai\",\"bowl\",\"highlight\",\"guaranteed\",\"R.\",\"chapter\",\"Poor\",\"tape\",\"Express\",\"server\",\"deployment\",\"shareholder\",\"Marine\",\"enormous\",\"homeless\",\"illness\",\"hall\",\"exhibit\",\"soil\",\"##nd\",\"noise\",\"outs\",\"deserve\",\"Disney\",\"Currently\",\"CIA\",\"rolling\",\"rarely\",\"adoption\",\"peaceful\",\"C.\",\"containing\",\"felony\",\"Warriors\",\"elite\",\"cabinet\",\"sponsors\",\"World_War_II\",\"economies\",\"hike\",\"arena\",\"solo\",\"platforms\",\"liability\",\"outdoor\",\"somewhere\",\"Ed\",\"displayed\",\"Alexander\",\"divided\",\"context\",\"Keith\",\"clinic\",\"lifestyle\",\"flew\",\"Part\",\"de\",\"screening\",\"dramatically\",\"Pirates\",\"Watson\",\"classroom\",\"contractors\",\"fundamental\",\"partly\",\"ensuring\",\"Oscar\",\"Entertainment\",\"tackles\",\"Gates\",\"slide\",\"suggesting\",\"ill\",\"imports\",\"highlights\",\"Airport\",\"Garcia\",\"assured\",\"bunch\",\"constantly\",\"holidays\",\"touched\",\"attempting\",\"fate\",\"listening\",\"\\u00bb\",\"legislators\",\"decent\",\"Pat\",\"risen\",\"hanging\",\"certified\",\"nominated\",\"Executive\",\"lists\",\"averaging\",\"lessons\",\"closure\",\"lifetime\",\"CD\",\"Sudan\",\"Data\",\"Head\",\"Fisher\",\"wider\",\"shocked\",\"Chief_Executive_Officer\",\"RBIs\",\"destination\",\"tens\",\"recommendation\",\"buses\",\"phones\",\"Caribbean\",\"acre\",\"Delta\",\"observed\",\"trials\",\"subsequent\",\"scenario\",\"shipping\",\"liberal\",\"lab\",\"pet\",\"Todd\",\"milk\",\"rumors\",\"Kenya\",\"IP\",\"municipal\",\"Phil\",\"starters\",\"Prior\",\"2nd\",\"bombing\",\"popularity\",\"thirds\",\"bailout\",\"menu\",\"asks\",\"Aaron\",\"tragedy\",\"packages\",\"interviewed\",\"Companies\",\"licenses\",\"Check\",\"Additionally\",\"memories\",\"colors\",\"consulting\",\"constitutional\",\"welfare\",\"nonprofit\",\"designs\",\"verdict\",\"defendants\",\"ankle\",\"sparked\",\"Limited\",\"Investigators\",\"Contact\",\"##th_century\",\"remarkable\",\"accompanied\",\"briefly\",\"AFP\",\"Montana\",\"letting\",\"Hudson\",\"receiver\",\"Overall\",\"wore\",\"Kings\",\"dynamic\",\"Third\",\"1st\",\"Directors\",\"attached\",\"tone\",\"reverse\",\"Brazilian\",\"Columbus\",\"survival\",\"establishment\",\"meal\",\"joint_venture\",\"Country\",\"reception\",\"promoted\",\"memorial\",\"warrant\",\"complicated\",\"inmates\",\"Does\",\"rough\",\"earth\",\"merely\",\"eliminated\",\"smile\",\"Miss\",\"checked\",\"J\",\"adjusted\",\"sweep\",\"leverage\",\"Sacramento\",\"Annual\",\"external\",\"mountain\",\"amendment\",\"associate\",\"Plus\",\"preserve\",\"attracted\",\"defendant\",\"sorry\",\"recovering\",\"subjects\",\"Masters\",\"N.\",\"Peterson\",\"diagnosed\",\"enabling\",\"legitimate\",\"terrible\",\"Philippines\",\"studying\",\"shed\",\"achievement\",\"delegation\",\"launching\",\"Classic\",\"dress\",\"DC\",\"reward\",\"Jennifer\",\"circuit\",\"Birmingham\",\"boxes\",\"vast\",\"adopt\",\"affair\",\"formerly\",\"Men\",\"enjoying\",\"predict\",\"respective\",\"recommend\",\"Sweden\",\"permits\",\"pattern\",\"admits\",\"HP\",\"Dennis\",\"renewed\",\"Vikings\",\"Place\",\"Blues\",\"satisfied\",\"principles\",\"crossed\",\"travelers\",\"landscape\",\"deposits\",\"Construction\",\"aboard\",\"Susan\",\"LONDON\",\"narrow\",\"practical\",\"installation\",\"D.\",\"San_Antonio\",\"samples\",\"exception\",\"halt\",\"loaded\",\"Delaware\",\"Harrison\",\"Station\",\"Tribune\",\"vaccine\",\"cup\",\"websites\",\"Make\",\"urging\",\"unlike\",\"purchasing\",\"sudden\",\"lined\",\"Hunter\",\"tonnes\",\"Summit\",\"wood\",\"eager\",\"climb\",\"careful\",\"mode\",\"enemy\",\"wanting\",\"engineer\",\"desperate\",\"AIDS\",\"Further\",\"commissioners\",\"Enterprise\",\"powered\",\"dealt\",\"oldest\",\"Indeed\",\"admission\",\"Friends\",\"connections\",\"therapy\",\"Roy\",\"topics\",\"comfort\",\"hang\"],\"x\":{\"__ndarray__\":\"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\",\"dtype\":\"float32\",\"shape\":[5000]},\"y\":{\"__ndarray__\":\"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\",\"dtype\":\"float32\",\"shape\":[5000]}},\"selected\":{\"id\":\"1032\"},\"selection_policy\":{\"id\":\"1033\"}},\"id\":\"1025\",\"type\":\"ColumnDataSource\"},{\"attributes\":{},\"id\":\"1014\",\"type\":\"WheelZoomTool\"},{\"attributes\":{\"fill_alpha\":{\"value\":0.1},\"fill_color\":{\"value\":\"darkcyan\"},\"line_alpha\":{\"value\":0.1},\"line_color\":{\"value\":\"darkcyan\"},\"x\":{\"field\":\"x\"},\"y\":{\"field\":\"y\"}},\"id\":\"1028\",\"type\":\"Scatter\"},{\"attributes\":{\"overlay\":{\"id\":\"1018\"}},\"id\":\"1015\",\"type\":\"BoxZoomTool\"},{\"attributes\":{},\"id\":\"1016\",\"type\":\"ResetTool\"},{\"attributes\":{\"callback\":null,\"tooltips\":[[\"word\",\"@words\"]]},\"id\":\"1017\",\"type\":\"HoverTool\"},{\"attributes\":{\"data_source\":{\"id\":\"1025\"},\"glyph\":{\"id\":\"1027\"},\"hover_glyph\":null,\"muted_glyph\":null,\"nonselection_glyph\":{\"id\":\"1028\"},\"selection_glyph\":null,\"view\":{\"id\":\"1030\"}},\"id\":\"1029\",\"type\":\"GlyphRenderer\"},{\"attributes\":{},\"id\":\"1007\",\"type\":\"DataRange1d\"},{\"attributes\":{\"text\":\"A map of 10000 word vectors\"},\"id\":\"1003\",\"type\":\"Title\"},{\"attributes\":{},\"id\":\"1033\",\"type\":\"UnionRenderers\"},{\"attributes\":{},\"id\":\"1009\",\"type\":\"LinearScale\"},{\"attributes\":{},\"id\":\"1005\",\"type\":\"DataRange1d\"},{\"attributes\":{},\"id\":\"1011\",\"type\":\"LinearScale\"},{\"attributes\":{\"source\":{\"id\":\"1025\"}},\"id\":\"1030\",\"type\":\"CDSView\"}],\"root_ids\":[\"1002\"]},\"title\":\"Bokeh Application\",\"version\":\"2.0.1\"}};\n",
       "  var render_items = [{\"docid\":\"821e1376-c226-4555-9b92-ef6eae5d33ee\",\"root_ids\":[\"1002\"],\"roots\":{\"1002\":\"16ce5353-9252-4ff4-af22-0634100fc6ca\"}}];\n",
       "  root.Bokeh.embed.embed_items_notebook(docs_json, render_items);\n",
       "\n",
       "  }\n",
       "  if (root.Bokeh !== undefined) {\n",
       "    embed_document(root);\n",
       "  } else {\n",
       "    var attempts = 0;\n",
       "    var timer = setInterval(function(root) {\n",
       "      if (root.Bokeh !== undefined) {\n",
       "        clearInterval(timer);\n",
       "        embed_document(root);\n",
       "      } else {\n",
       "        attempts++;\n",
       "        if (attempts > 100) {\n",
       "          clearInterval(timer);\n",
       "          console.log(\"Bokeh: ERROR: Unable to run BokehJS code because BokehJS library is missing\");\n",
       "        }\n",
       "      }\n",
       "    }, 10, root)\n",
       "  }\n",
       "})(window);"
      ],
      "application/vnd.bokehjs_exec.v0+json": ""
     },
     "metadata": {
      "application/vnd.bokehjs_exec.v0+json": {
       "id": "1002"
      }
     },
     "output_type": "display_data"
    }
   ],
   "source": [
    "# importing bokeh library for interactive dataviz\n",
    "import bokeh.plotting as bp\n",
    "from bokeh.models import HoverTool, BoxSelectTool\n",
    "from bokeh.plotting import figure, show, output_notebook\n",
    "\n",
    "# defining the chart\n",
    "output_notebook()\n",
    "plot_tfidf = bp.figure(plot_width=500, plot_height=400, title=\"A map of 10000 word vectors\",\n",
    "    tools=\"pan,wheel_zoom,box_zoom,reset,hover\",\n",
    "    x_axis_type=None, y_axis_type=None, min_border=1)\n",
    "\n",
    "# getting a list of word vectors. limit to 10000. each is of 300 dimensions\n",
    "word_vectors = [model[w] for w in list(model.wv.vocab.keys())[:5000]]\n",
    "\n",
    "# dimensionality reduction. converting the vectors to 2d vectors\n",
    "from sklearn.manifold import TSNE\n",
    "tsne_model = TSNE(n_components=2, verbose=1, random_state=0)\n",
    "tsne_w2v = tsne_model.fit_transform(word_vectors)\n",
    "\n",
    "# putting everything in a dataframe\n",
    "tsne_df = pd.DataFrame(tsne_w2v, columns=['x', 'y'])\n",
    "tsne_df['words'] = list(model.wv.vocab.keys())[:5000]\n",
    "\n",
    "# plotting. the corresponding word appears when you hover on the data point.\n",
    "plot_tfidf.scatter(x='x', y='y', source=tsne_df,color = 'darkcyan')\n",
    "hover = plot_tfidf.select(dict(type=HoverTool))\n",
    "hover.tooltips={\"word\": \"@words\"}\n",
    "show(plot_tfidf)"
   ]
  },
  {
   "cell_type": "code",
   "execution_count": 16,
   "metadata": {
    "_kg_hide-input": true,
    "execution": {
     "iopub.execute_input": "2023-03-16T10:36:04.432868Z",
     "iopub.status.busy": "2023-03-16T10:36:04.432079Z",
     "iopub.status.idle": "2023-03-16T10:36:04.434232Z",
     "shell.execute_reply": "2023-03-16T10:36:04.433585Z",
     "shell.execute_reply.started": "2023-03-16T10:24:33.583938Z"
    },
    "papermill": {
     "duration": 0.051644,
     "end_time": "2023-03-16T10:36:04.434362",
     "exception": false,
     "start_time": "2023-03-16T10:36:04.382718",
     "status": "completed"
    },
    "tags": []
   },
   "outputs": [],
   "source": [
    " def document_vector(doc):\n",
    "     \"\"\"Create document vectors by averaging word vectors. Remove out-of-vocabulary words.\"\"\"\n",
    "     doc = [word for word in doc if word in model.wv.vocab]\n",
    "     print(doc)\n",
    "     return np.mean(model[doc], axis=0)"
   ]
  },
  {
   "cell_type": "code",
   "execution_count": 17,
   "metadata": {
    "execution": {
     "iopub.execute_input": "2023-03-16T10:36:04.523715Z",
     "iopub.status.busy": "2023-03-16T10:36:04.522914Z",
     "iopub.status.idle": "2023-03-16T10:36:04.525016Z",
     "shell.execute_reply": "2023-03-16T10:36:04.524381Z",
     "shell.execute_reply.started": "2023-03-16T10:24:33.591974Z"
    },
    "papermill": {
     "duration": 0.04878,
     "end_time": "2023-03-16T10:36:04.525141",
     "exception": false,
     "start_time": "2023-03-16T10:36:04.476361",
     "status": "completed"
    },
    "tags": []
   },
   "outputs": [],
   "source": [
    "# comment_tokens"
   ]
  },
  {
   "cell_type": "code",
   "execution_count": 18,
   "metadata": {
    "execution": {
     "iopub.execute_input": "2023-03-16T10:36:04.619421Z",
     "iopub.status.busy": "2023-03-16T10:36:04.618660Z",
     "iopub.status.idle": "2023-03-16T10:36:07.128715Z",
     "shell.execute_reply": "2023-03-16T10:36:07.128190Z",
     "shell.execute_reply.started": "2023-03-16T10:24:33.607548Z"
    },
    "papermill": {
     "duration": 2.562264,
     "end_time": "2023-03-16T10:36:07.128830",
     "exception": false,
     "start_time": "2023-03-16T10:36:04.566566",
     "status": "completed"
    },
    "tags": []
   },
   "outputs": [
    {
     "name": "stderr",
     "output_type": "stream",
     "text": [
      "/opt/conda/lib/python3.7/site-packages/ipykernel_launcher.py:3: DeprecationWarning: Call to deprecated `wv` (Attribute will be removed in 4.0.0, use self instead).\n",
      "  This is separate from the ipykernel package so we can avoid doing imports until\n"
     ]
    }
   ],
   "source": [
    "documents = []\n",
    "for x in comment_tokens:\n",
    "    document = [word for word in x if word in model.wv.vocab]\n",
    "    documents.append(document)\n",
    "#now this document have only those words which are present in our model's vocab\n",
    "# documents   "
   ]
  },
  {
   "cell_type": "code",
   "execution_count": 19,
   "metadata": {
    "execution": {
     "iopub.execute_input": "2023-03-16T10:36:07.188783Z",
     "iopub.status.busy": "2023-03-16T10:36:07.188272Z",
     "iopub.status.idle": "2023-03-16T10:36:07.193779Z",
     "shell.execute_reply": "2023-03-16T10:36:07.193381Z",
     "shell.execute_reply.started": "2023-03-16T10:24:36.857513Z"
    },
    "papermill": {
     "duration": 0.036966,
     "end_time": "2023-03-16T10:36:07.193873",
     "exception": false,
     "start_time": "2023-03-16T10:36:07.156907",
     "status": "completed"
    },
    "tags": []
   },
   "outputs": [
    {
     "data": {
      "text/plain": [
       "23900"
      ]
     },
     "execution_count": 19,
     "metadata": {},
     "output_type": "execute_result"
    }
   ],
   "source": [
    "len(documents)"
   ]
  },
  {
   "cell_type": "code",
   "execution_count": 20,
   "metadata": {
    "execution": {
     "iopub.execute_input": "2023-03-16T10:36:07.253113Z",
     "iopub.status.busy": "2023-03-16T10:36:07.252568Z",
     "iopub.status.idle": "2023-03-16T10:36:07.257350Z",
     "shell.execute_reply": "2023-03-16T10:36:07.256906Z",
     "shell.execute_reply.started": "2023-03-16T10:24:36.864883Z"
    },
    "papermill": {
     "duration": 0.035825,
     "end_time": "2023-03-16T10:36:07.257455",
     "exception": false,
     "start_time": "2023-03-16T10:36:07.221630",
     "status": "completed"
    },
    "tags": []
   },
   "outputs": [
    {
     "data": {
      "text/plain": [
       "list"
      ]
     },
     "execution_count": 20,
     "metadata": {},
     "output_type": "execute_result"
    }
   ],
   "source": [
    "type(documents)"
   ]
  },
  {
   "cell_type": "code",
   "execution_count": 21,
   "metadata": {
    "execution": {
     "iopub.execute_input": "2023-03-16T10:36:07.323218Z",
     "iopub.status.busy": "2023-03-16T10:36:07.322510Z",
     "iopub.status.idle": "2023-03-16T10:36:07.326221Z",
     "shell.execute_reply": "2023-03-16T10:36:07.325485Z",
     "shell.execute_reply.started": "2023-03-16T10:24:36.878604Z"
    },
    "papermill": {
     "duration": 0.041059,
     "end_time": "2023-03-16T10:36:07.326345",
     "exception": false,
     "start_time": "2023-03-16T10:36:07.285286",
     "status": "completed"
    },
    "tags": []
   },
   "outputs": [
    {
     "name": "stdout",
     "output_type": "stream",
     "text": [
      "30\n"
     ]
    }
   ],
   "source": [
    "#checking if there is any empty list inside documents\n",
    "counter = 0\n",
    "for i in range (0,len(documents)):\n",
    "    if documents[i] == []:\n",
    "        counter += 1\n",
    "print(counter)"
   ]
  },
  {
   "cell_type": "markdown",
   "metadata": {
    "papermill": {
     "duration": 0.028085,
     "end_time": "2023-03-16T10:36:07.384160",
     "exception": false,
     "start_time": "2023-03-16T10:36:07.356075",
     "status": "completed"
    },
    "tags": []
   },
   "source": [
    "> So there were in total this much empty vectors(output of above cell) which were form due to removal of words whch are not present in our pretrained model's vocab, now we will fill those vectors with zeros"
   ]
  },
  {
   "cell_type": "code",
   "execution_count": 22,
   "metadata": {
    "execution": {
     "iopub.execute_input": "2023-03-16T10:36:07.446444Z",
     "iopub.status.busy": "2023-03-16T10:36:07.445692Z",
     "iopub.status.idle": "2023-03-16T10:36:10.196276Z",
     "shell.execute_reply": "2023-03-16T10:36:10.195526Z",
     "shell.execute_reply.started": "2023-03-16T10:24:36.895629Z"
    },
    "papermill": {
     "duration": 2.784107,
     "end_time": "2023-03-16T10:36:10.196389",
     "exception": false,
     "start_time": "2023-03-16T10:36:07.412282",
     "status": "completed"
    },
    "tags": []
   },
   "outputs": [],
   "source": [
    "list_v=[]\n",
    "for i in range (0,len(documents)):\n",
    "    if documents[i] == []:\n",
    "        list_v.append(np.zeros(300,))\n",
    "    else:\n",
    "        list_v.append(np.mean(model[documents[i]], axis=0))\n",
    "        "
   ]
  },
  {
   "cell_type": "code",
   "execution_count": 23,
   "metadata": {
    "execution": {
     "iopub.execute_input": "2023-03-16T10:36:10.257696Z",
     "iopub.status.busy": "2023-03-16T10:36:10.256894Z",
     "iopub.status.idle": "2023-03-16T10:36:10.260538Z",
     "shell.execute_reply": "2023-03-16T10:36:10.260125Z",
     "shell.execute_reply.started": "2023-03-16T10:24:40.890298Z"
    },
    "papermill": {
     "duration": 0.03577,
     "end_time": "2023-03-16T10:36:10.260636",
     "exception": false,
     "start_time": "2023-03-16T10:36:10.224866",
     "status": "completed"
    },
    "tags": []
   },
   "outputs": [
    {
     "data": {
      "text/plain": [
       "23900"
      ]
     },
     "execution_count": 23,
     "metadata": {},
     "output_type": "execute_result"
    }
   ],
   "source": [
    "len(list_v)"
   ]
  },
  {
   "cell_type": "markdown",
   "metadata": {
    "papermill": {
     "duration": 0.028771,
     "end_time": "2023-03-16T10:36:10.317468",
     "exception": false,
     "start_time": "2023-03-16T10:36:10.288697",
     "status": "completed"
    },
    "tags": []
   },
   "source": [
    "## SMOTE \n",
    "\n",
    "SMOTE (synthetic minority oversampling technique) is one of the most commonly used oversampling methods to solve the imbalance problem.\n",
    "It aims to balance class distribution by randomly increasing minority class examples by replicating them.\n",
    "SMOTE synthesises new minority instances between existing minority instances. It generates the virtual training records by linear interpolation for the minority class. These synthetic training records are generated by randomly selecting one or more of the k-nearest neighbors for each example in the minority class. After the oversampling process, the data is reconstructed and several classification models can be applied for the processed data."
   ]
  },
  {
   "cell_type": "markdown",
   "metadata": {
    "papermill": {
     "duration": 0.028578,
     "end_time": "2023-03-16T10:36:10.374327",
     "exception": false,
     "start_time": "2023-03-16T10:36:10.345749",
     "status": "completed"
    },
    "tags": []
   },
   "source": [
    "![smote](https://raw.githubusercontent.com/rafjaa/machine_learning_fecib/master/src/static/img/smote.png)"
   ]
  },
  {
   "cell_type": "code",
   "execution_count": 24,
   "metadata": {
    "execution": {
     "iopub.execute_input": "2023-03-16T10:36:10.439154Z",
     "iopub.status.busy": "2023-03-16T10:36:10.438578Z",
     "iopub.status.idle": "2023-03-16T10:36:16.266668Z",
     "shell.execute_reply": "2023-03-16T10:36:16.267388Z",
     "shell.execute_reply.started": "2023-03-16T10:24:40.900331Z"
    },
    "papermill": {
     "duration": 5.864771,
     "end_time": "2023-03-16T10:36:16.267595",
     "exception": false,
     "start_time": "2023-03-16T10:36:10.402824",
     "status": "completed"
    },
    "tags": []
   },
   "outputs": [
    {
     "name": "stdout",
     "output_type": "stream",
     "text": [
      "Original dataset shape before smote Counter({0: 23000, 1: 900})\n"
     ]
    },
    {
     "name": "stderr",
     "output_type": "stream",
     "text": [
      "Using TensorFlow backend.\n"
     ]
    },
    {
     "name": "stdout",
     "output_type": "stream",
     "text": [
      "Original dataset shape after smote Counter({0: 23000, 1: 23000})\n"
     ]
    }
   ],
   "source": [
    "from collections import Counter\n",
    "print('Original dataset shape before smote %s' % Counter(new['toxic']))\n",
    "from imblearn.over_sampling import SMOTE\n",
    "oversample = SMOTE()\n",
    "X, y = oversample.fit_resample(list_v, new['toxic'])\n",
    "print('Original dataset shape after smote %s' % Counter(y))"
   ]
  },
  {
   "cell_type": "code",
   "execution_count": 25,
   "metadata": {
    "execution": {
     "iopub.execute_input": "2023-03-16T10:36:16.333677Z",
     "iopub.status.busy": "2023-03-16T10:36:16.332993Z",
     "iopub.status.idle": "2023-03-16T10:36:16.349433Z",
     "shell.execute_reply": "2023-03-16T10:36:16.349011Z",
     "shell.execute_reply.started": "2023-03-16T10:24:48.316707Z"
    },
    "papermill": {
     "duration": 0.050318,
     "end_time": "2023-03-16T10:36:16.349532",
     "exception": false,
     "start_time": "2023-03-16T10:36:16.299214",
     "status": "completed"
    },
    "tags": []
   },
   "outputs": [],
   "source": [
    "#test-train split\n",
    "from sklearn.model_selection import train_test_split\n",
    "Xw_train, Xw_test, yw_train, yw_test = train_test_split(X,y, test_size=0.3, random_state=42)"
   ]
  },
  {
   "cell_type": "markdown",
   "metadata": {
    "papermill": {
     "duration": 0.029126,
     "end_time": "2023-03-16T10:36:16.408323",
     "exception": false,
     "start_time": "2023-03-16T10:36:16.379197",
     "status": "completed"
    },
    "tags": []
   },
   "source": [
    "## LOGISTIC REGRESSION"
   ]
  },
  {
   "cell_type": "code",
   "execution_count": 26,
   "metadata": {
    "execution": {
     "iopub.execute_input": "2023-03-16T10:36:16.853314Z",
     "iopub.status.busy": "2023-03-16T10:36:16.852214Z",
     "iopub.status.idle": "2023-03-16T10:36:18.084187Z",
     "shell.execute_reply": "2023-03-16T10:36:18.083327Z",
     "shell.execute_reply.started": "2023-03-16T10:24:48.344590Z"
    },
    "papermill": {
     "duration": 1.646808,
     "end_time": "2023-03-16T10:36:18.084311",
     "exception": false,
     "start_time": "2023-03-16T10:36:16.437503",
     "status": "completed"
    },
    "tags": []
   },
   "outputs": [
    {
     "data": {
      "text/plain": [
       "LogisticRegression(C=1.0, class_weight=None, dual=False, fit_intercept=True,\n",
       "                   intercept_scaling=1, l1_ratio=None, max_iter=1000,\n",
       "                   multi_class='auto', n_jobs=None, penalty='l2',\n",
       "                   random_state=None, solver='lbfgs', tol=0.0001, verbose=0,\n",
       "                   warm_start=False)"
      ]
     },
     "execution_count": 26,
     "metadata": {},
     "output_type": "execute_result"
    }
   ],
   "source": [
    "from sklearn.linear_model import LogisticRegression\n",
    "clf=LogisticRegression(max_iter=1000)\n",
    "clf.fit(Xw_train,yw_train)"
   ]
  },
  {
   "cell_type": "code",
   "execution_count": 27,
   "metadata": {
    "execution": {
     "iopub.execute_input": "2023-03-16T10:36:18.318358Z",
     "iopub.status.busy": "2023-03-16T10:36:18.317210Z",
     "iopub.status.idle": "2023-03-16T10:36:18.327536Z",
     "shell.execute_reply": "2023-03-16T10:36:18.327095Z",
     "shell.execute_reply.started": "2023-03-16T10:24:49.893173Z"
    },
    "papermill": {
     "duration": 0.213514,
     "end_time": "2023-03-16T10:36:18.327648",
     "exception": false,
     "start_time": "2023-03-16T10:36:18.114134",
     "status": "completed"
    },
    "tags": []
   },
   "outputs": [
    {
     "data": {
      "text/plain": [
       "0.8763043478260869"
      ]
     },
     "execution_count": 27,
     "metadata": {},
     "output_type": "execute_result"
    }
   ],
   "source": [
    "predicted_res=clf.predict(Xw_test)\n",
    "from sklearn.metrics import accuracy_score\n",
    "accuracy=accuracy_score(yw_test,predicted_res)\n",
    "accuracy"
   ]
  },
  {
   "cell_type": "code",
   "execution_count": 28,
   "metadata": {
    "execution": {
     "iopub.execute_input": "2023-03-16T10:36:18.393579Z",
     "iopub.status.busy": "2023-03-16T10:36:18.392804Z",
     "iopub.status.idle": "2023-03-16T10:36:18.396073Z",
     "shell.execute_reply": "2023-03-16T10:36:18.396446Z",
     "shell.execute_reply.started": "2023-03-16T10:24:50.142928Z"
    },
    "papermill": {
     "duration": 0.038632,
     "end_time": "2023-03-16T10:36:18.396567",
     "exception": false,
     "start_time": "2023-03-16T10:36:18.357935",
     "status": "completed"
    },
    "tags": []
   },
   "outputs": [
    {
     "data": {
      "text/plain": [
       "0.006348158702709204"
      ]
     },
     "execution_count": 28,
     "metadata": {},
     "output_type": "execute_result"
    }
   ],
   "source": [
    "import numpy as np\n",
    "\n",
    "z=1.96\n",
    "interval = z * np.sqrt( (0.8244 * (1 - 0.8244)) / yw_test.shape[0])\n",
    "interval"
   ]
  },
  {
   "cell_type": "markdown",
   "metadata": {
    "papermill": {
     "duration": 0.029706,
     "end_time": "2023-03-16T10:36:18.456246",
     "exception": false,
     "start_time": "2023-03-16T10:36:18.426540",
     "status": "completed"
    },
    "tags": []
   },
   "source": [
    "> Confidence interval(95%) - [87.15  88.41]"
   ]
  }
 ],
 "metadata": {
  "kernelspec": {
   "display_name": "Python 3",
   "language": "python",
   "name": "python3"
  },
  "language_info": {
   "codemirror_mode": {
    "name": "ipython",
    "version": 3
   },
   "file_extension": ".py",
   "mimetype": "text/x-python",
   "name": "python",
   "nbconvert_exporter": "python",
   "pygments_lexer": "ipython3",
   "version": "3.7.6"
  },
  "papermill": {
   "duration": 365.531457,
   "end_time": "2023-03-16T10:36:19.094656",
   "environment_variables": {},
   "exception": null,
   "input_path": "__notebook__.ipynb",
   "output_path": "__notebook__.ipynb",
   "parameters": {},
   "start_time": "2023-03-16T10:30:13.563199",
   "version": "2.1.0"
  }
 },
 "nbformat": 4,
 "nbformat_minor": 4
}
